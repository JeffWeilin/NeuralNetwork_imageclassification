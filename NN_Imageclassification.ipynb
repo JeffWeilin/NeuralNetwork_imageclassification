{
 "cells": [
  {
   "cell_type": "markdown",
   "id": "8a02b0b5",
   "metadata": {
    "id": "8a02b0b5"
   },
   "source": []
  },
  {
   "cell_type": "markdown",
   "id": "fad9a489",
   "metadata": {
    "id": "fad9a489"
   },
   "source": []
  },
  {
   "cell_type": "markdown",
   "id": "12de7129",
   "metadata": {
    "id": "12de7129"
   },
   "source": [
    "This notebook includes the code to load the Fashion-MNIST dataset using Keras, and a skeleton for the main sections that should be included in the notebook. Please see the assignment specification for more detail. You may wish to add extra subsections where appropriate. \n",
    "\n",
    "Please focus on making your code clear, with appropriate variable names and whitespace. Include comments and markdown text to aid the readability of your code where relevant."
   ]
  },
  {
   "cell_type": "markdown",
   "id": "e93e448f",
   "metadata": {
    "id": "e93e448f"
   },
   "source": [
    "## Setup and dependencies\n",
    "Please use this section to list and set up all your required libraries/dependencies and your plotting environment. "
   ]
  },
  {
   "cell_type": "code",
   "execution_count": 2,
   "id": "AdYuIWGDVbKk",
   "metadata": {
    "colab": {
     "base_uri": "https://localhost:8080/"
    },
    "id": "AdYuIWGDVbKk",
    "outputId": "b29c3129-6848-49ba-8bdb-d44f0c0466d2"
   },
   "outputs": [
    {
     "name": "stdout",
     "output_type": "stream",
     "text": [
      "Requirement already satisfied: scikeras in /Users/yangweilin/opt/anaconda3/lib/python3.8/site-packages (0.10.0)\n",
      "Requirement already satisfied: scikit-learn>=1.0.0 in /Users/yangweilin/opt/anaconda3/lib/python3.8/site-packages (from scikeras) (1.2.2)\n",
      "Requirement already satisfied: packaging>=0.21 in /Users/yangweilin/opt/anaconda3/lib/python3.8/site-packages (from scikeras) (21.3)\n",
      "Requirement already satisfied: pyparsing!=3.0.5,>=2.0.2 in /Users/yangweilin/opt/anaconda3/lib/python3.8/site-packages (from packaging>=0.21->scikeras) (3.0.9)\n",
      "Requirement already satisfied: joblib>=1.1.1 in /Users/yangweilin/opt/anaconda3/lib/python3.8/site-packages (from scikit-learn>=1.0.0->scikeras) (1.2.0)\n",
      "Requirement already satisfied: scipy>=1.3.2 in /Users/yangweilin/opt/anaconda3/lib/python3.8/site-packages (from scikit-learn>=1.0.0->scikeras) (1.6.2)\n",
      "Requirement already satisfied: numpy>=1.17.3 in /Users/yangweilin/opt/anaconda3/lib/python3.8/site-packages (from scikit-learn>=1.0.0->scikeras) (1.22.4)\n",
      "Requirement already satisfied: threadpoolctl>=2.0.0 in /Users/yangweilin/opt/anaconda3/lib/python3.8/site-packages (from scikit-learn>=1.0.0->scikeras) (2.1.0)\n",
      "\n",
      "\u001b[1m[\u001b[0m\u001b[34;49mnotice\u001b[0m\u001b[1;39;49m]\u001b[0m\u001b[39;49m A new release of pip is available: \u001b[0m\u001b[31;49m23.0.1\u001b[0m\u001b[39;49m -> \u001b[0m\u001b[32;49m23.1.2\u001b[0m\n",
      "\u001b[1m[\u001b[0m\u001b[34;49mnotice\u001b[0m\u001b[1;39;49m]\u001b[0m\u001b[39;49m To update, run: \u001b[0m\u001b[32;49mpip install --upgrade pip\u001b[0m\n"
     ]
    }
   ],
   "source": [
    "!pip install scikeras"
   ]
  },
  {
   "cell_type": "code",
   "execution_count": null,
   "id": "0b377cba",
   "metadata": {
    "id": "0b377cba"
   },
   "outputs": [],
   "source": [
    "import numpy as np\n",
    "import tensorflow as tf\n",
    "from tensorflow import keras\n",
    "import pandas as pd\n",
    "from scikeras.wrappers import KerasClassifier\n",
    "\n",
    "import sys\n",
    "import sklearn\n",
    "import time\n",
    "from sklearn import model_selection, metrics \n",
    "from sklearn.model_selection import train_test_split, GridSearchCV, StratifiedKFold, cross_val_score, KFold\n",
    "from sklearn.model_selection import KFold\n",
    "from sklearn.preprocessing import MinMaxScaler, StandardScaler\n",
    "from sklearn.svm import SVC\n",
    "from sklearn.metrics import accuracy_score\n",
    "from sklearn.decomposition import PCA\n",
    "\n",
    "# Ensure stability across runs\n",
    "np.random.seed(42)\n",
    "tf.random.set_seed(42)\n",
    "keras.backend.clear_session()\n",
    "\n",
    "%matplotlib inline\n",
    "import matplotlib as mpl\n",
    "import matplotlib.pyplot as plt\n",
    "mpl.rc('axes', labelsize=14)\n",
    "mpl.rc('xtick', labelsize=12)\n",
    "mpl.rc('ytick', labelsize=12)\n"
   ]
  },
  {
   "cell_type": "markdown",
   "id": "e0fe9f9b",
   "metadata": {
    "id": "e0fe9f9b"
   },
   "source": [
    "## 1. Data loading, preprocessing, and exploration\n",
    "We have included the code to load the dataset below. Please proceed with your data exploration and preprocessing steps, including creating any relevant data subsets required. The documentation for the data loading function can be accessed [here](https://keras.io/api/datasets/fashion_mnist/)."
   ]
  },
  {
   "cell_type": "markdown",
   "id": "1f380b9d",
   "metadata": {
    "id": "1f380b9d"
   },
   "source": [
    "## 1.1. Data loading"
   ]
  },
  {
   "cell_type": "code",
   "execution_count": 1,
   "id": "a9d9933b",
   "metadata": {
    "colab": {
     "base_uri": "https://localhost:8080/"
    },
    "id": "a9d9933b",
    "outputId": "809f17a7-6395-4055-acac-b0ff24325c3c"
   },
   "outputs": [],
   "source": [
    "# Load the Fashion-MNIST dataset training and test sets as numpy arrays\n",
    "(X_train_full, y_train_full), (X_test, y_test) = keras.datasets.fashion_mnist.load_data()\n",
    "assert X_train_full.shape == (60000, 28, 28)\n",
    "assert X_test.shape == (10000, 28, 28)\n",
    "assert y_train_full.shape == (60000,)\n",
    "assert y_test.shape == (10000,)"
   ]
  },
  {
   "cell_type": "code",
   "execution_count": null,
   "id": "74f3f022",
   "metadata": {
    "id": "74f3f022"
   },
   "outputs": [],
   "source": [
    "# An ordered list of the class names\n",
    "class_names = [\"T-shirt/top\",\n",
    "               \"Trouser\",\n",
    "               \"Pullover\",\n",
    "               \"Dress\",\n",
    "               \"Coat\",\n",
    "               \"Sandal\",\n",
    "               \"Shirt\",\n",
    "               \"Sneaker\",\n",
    "               \"Bag\",\n",
    "               \"Ankle boot\"\n",
    "              ]"
   ]
  },
  {
   "cell_type": "markdown",
   "id": "1860d631",
   "metadata": {
    "id": "1860d631"
   },
   "source": [
    "## 1.2. Data Exploration"
   ]
  },
  {
   "cell_type": "markdown",
   "id": "ea004471",
   "metadata": {
    "id": "ea004471"
   },
   "source": [
    "Firslt, we can examine the shape of the data arrays\n"
   ]
  },
  {
   "cell_type": "code",
   "execution_count": 8,
   "id": "800517bb",
   "metadata": {
    "colab": {
     "base_uri": "https://localhost:8080/"
    },
    "id": "800517bb",
    "outputId": "e29accb1-0057-4026-cf57-cb6f72bbf567"
   },
   "outputs": [
    {
     "name": "stdout",
     "output_type": "stream",
     "text": [
      "Shape of X_train_full: (60000, 28, 28)\n",
      "Shape of y_train_full: (60000,)\n",
      "Shape of X_test: (10000, 28, 28)\n",
      "Shape of y_test: (10000,)\n"
     ]
    }
   ],
   "source": [
    "print(f\"Shape of X_train_full: {X_train_full.shape}\")\n",
    "print(f\"Shape of y_train_full: {y_train_full.shape}\")\n",
    "print(f\"Shape of X_test: {X_test.shape}\")\n",
    "print(f\"Shape of y_test: {y_test.shape}\")"
   ]
  },
  {
   "cell_type": "markdown",
   "id": "a577e57b",
   "metadata": {
    "id": "a577e57b"
   },
   "source": [
    "We found that the data type in the training set is represented as a byte (uint8), which can take values from 0 to 255."
   ]
  },
  {
   "cell_type": "code",
   "execution_count": 9,
   "id": "e92f77c4",
   "metadata": {
    "colab": {
     "base_uri": "https://localhost:8080/"
    },
    "id": "e92f77c4",
    "outputId": "9e550bea-b7f0-4548-dc69-3e675bdf9742"
   },
   "outputs": [
    {
     "data": {
      "text/plain": [
       "dtype('uint8')"
      ]
     },
     "execution_count": 9,
     "metadata": {},
     "output_type": "execute_result"
    }
   ],
   "source": [
    "X_train_full.dtype"
   ]
  },
  {
   "cell_type": "markdown",
   "id": "40d54119",
   "metadata": {
    "id": "40d54119"
   },
   "source": [
    "## 1.3. Data  preprocessing and ploting\n",
    "Divide the pixel values by 255 to scale the input features to a 0-1 range. (which prevent large inputs causing gradients very close to 0 after passing the neuron output through an activation function)"
   ]
  },
  {
   "cell_type": "code",
   "execution_count": 10,
   "id": "35262da3",
   "metadata": {
    "id": "35262da3"
   },
   "outputs": [],
   "source": [
    "# Scale the data to the range 0-1\n",
    "X_train_full  = X_train_full / 255.\n",
    "X_test = X_test / 255."
   ]
  },
  {
   "cell_type": "markdown",
   "id": "ba314119",
   "metadata": {
    "id": "ba314119"
   },
   "source": [
    "The first numpy array [28,28] can be plot:"
   ]
  },
  {
   "cell_type": "code",
   "execution_count": 11,
   "id": "380b6bec",
   "metadata": {
    "colab": {
     "base_uri": "https://localhost:8080/",
     "height": 269
    },
    "id": "380b6bec",
    "outputId": "9a716212-af9c-461b-95b0-cedf5769bcb1"
   },
   "outputs": [
    {
     "data": {
      "image/png": "[encoded data removed]",
      "text/plain": [
       "<Figure size 432x288 with 1 Axes>"
      ]
     },
     "metadata": {
      "needs_background": "light"
     },
     "output_type": "display_data"
    }
   ],
   "source": [
    "plt.imshow(X_train_full[0], cmap=\"binary\")\n",
    "plt.show()"
   ]
  },
  {
   "cell_type": "markdown",
   "id": "b4e34e43",
   "metadata": {
    "id": "b4e34e43"
   },
   "source": [
    "If we check the further information on the dataset doucumentation, we found that boot should be classified as label 9. To prove that:"
   ]
  },
  {
   "cell_type": "code",
   "execution_count": 12,
   "id": "691c9b8a",
   "metadata": {
    "colab": {
     "base_uri": "https://localhost:8080/"
    },
    "id": "691c9b8a",
    "outputId": "ee6d47ca-5d9e-46de-f53d-ed3576bbde1c"
   },
   "outputs": [
    {
     "name": "stdout",
     "output_type": "stream",
     "text": [
      "[0 1 2 3 4 5 6 7 8 9]\n",
      "The first image lable is:  9\n"
     ]
    }
   ],
   "source": [
    "print(np.unique(y_train_full))\n",
    "print(\"The first image lable is: \",y_train_full[0])"
   ]
  },
  {
   "cell_type": "markdown",
   "id": "53faa704",
   "metadata": {
    "id": "53faa704"
   },
   "source": [
    "We can use a function in the tutoril slides to plot more samples："
   ]
  },
  {
   "cell_type": "code",
   "execution_count": 13,
   "id": "1500f371",
   "metadata": {
    "colab": {
     "base_uri": "https://localhost:8080/",
     "height": 292
    },
    "id": "1500f371",
    "outputId": "5d1cd599-2a11-4f55-fdf8-f99986ca565f"
   },
   "outputs": [
    {
     "data": {
      "image/png": "[encoded data removed]",
      "text/plain": [
       "<Figure size 864x345.6 with 40 Axes>"
      ]
     },
     "metadata": {
      "needs_background": "light"
     },
     "output_type": "display_data"
    }
   ],
   "source": [
    "def plot_image(image):\n",
    "  plt.imshow(image, cmap=\"gray\", interpolation=\"nearest\")\n",
    "  plt.axis(\"off\")\n",
    "\n",
    "\n",
    "def plot_color_image(image):\n",
    "  plt.imshow(image, interpolation=\"nearest\")\n",
    "  plt.axis(\"off\")\n",
    "\n",
    "def plot_examples(data, n_rows=4, n_cols=10):\n",
    "    \"\"\"Plot a grid of MNIST examples of a specified size.\"\"\"\n",
    "    \n",
    "    # Size figure depending on the size of the grid\n",
    "    plt.figure(figsize=(n_cols * 1.2, n_rows * 1.2))\n",
    "    \n",
    "    for row in range(n_rows):\n",
    "        for col in range(n_cols):\n",
    "            \n",
    "            # Get next index of image\n",
    "            index = n_cols * row + col\n",
    "            \n",
    "            # Plot the image at appropriate place in grid\n",
    "            plt.subplot(n_rows, n_cols, index + 1)\n",
    "            plt.imshow(data[index], cmap=\"binary\")\n",
    "            plt.axis('off')\n",
    "            \n",
    "    plt.show()\n",
    "\n",
    "plot_examples(X_train_full)"
   ]
  },
  {
   "cell_type": "code",
   "execution_count": 14,
   "id": "2ae23f16",
   "metadata": {
    "colab": {
     "base_uri": "https://localhost:8080/"
    },
    "id": "2ae23f16",
    "outputId": "f50b655f-3e5b-4953-a20a-725d9f502e53"
   },
   "outputs": [
    {
     "name": "stdout",
     "output_type": "stream",
     "text": [
      "[9 0 0 3 0]\n"
     ]
    }
   ],
   "source": [
    "# Check the format of the label by looking at the first five examples\n",
    "print(y_train_full[0:5])"
   ]
  },
  {
   "cell_type": "markdown",
   "id": "e575e992",
   "metadata": {
    "id": "e575e992"
   },
   "source": [
    "## 2. Algorithm design and setup"
   ]
  },
  {
   "cell_type": "markdown",
   "id": "4b9079fc",
   "metadata": {
    "id": "4b9079fc"
   },
   "source": [
    "### 2.1 Algorithm of choice from first six weeks of course (SVM)"
   ]
  },
  {
   "cell_type": "markdown",
   "id": "LnyMV3I2ZIbE",
   "metadata": {
    "id": "LnyMV3I2ZIbE"
   },
   "source": [
    "#### 2.1.1 Prepare the data"
   ]
  },
  {
   "cell_type": "code",
   "execution_count": 15,
   "id": "Em7dqBXh_bsJ",
   "metadata": {
    "colab": {
     "base_uri": "https://localhost:8080/"
    },
    "id": "Em7dqBXh_bsJ",
    "outputId": "54472319-a38a-4a73-99e7-cc8df8a5bbbb"
   },
   "outputs": [
    {
     "name": "stdout",
     "output_type": "stream",
     "text": [
      "<class 'numpy.ndarray'>\n"
     ]
    }
   ],
   "source": [
    "def pic_to_list(train_list):\n",
    "  x_list = []\n",
    "  for x in train_list:\n",
    "    for ele in x:\n",
    "      x_list.append(ele)\n",
    "  return x_list\n",
    "print(type(X_train_full))\n",
    "X_SVM = np.zeros(shape=(60000,784))\n",
    "i = 0\n",
    "for x in X_train_full:\n",
    "  X_SVM[i] = pic_to_list(x)\n",
    "  i = i + 1\n"
   ]
  },
  {
   "cell_type": "code",
   "execution_count": 16,
   "id": "88lZoE0sDyOc",
   "metadata": {
    "id": "88lZoE0sDyOc"
   },
   "outputs": [],
   "source": [
    "pca = PCA(n_components=200).fit(X_SVM)\n",
    "X_train_pca = pca.transform(X_SVM)"
   ]
  },
  {
   "cell_type": "markdown",
   "id": "JLX3RbwNupR3",
   "metadata": {
    "id": "JLX3RbwNupR3"
   },
   "source": [
    "#### 2.1.2 Setting the 10 fold stratified cross-validation"
   ]
  },
  {
   "cell_type": "code",
   "execution_count": 17,
   "id": "fe64b88f",
   "metadata": {
    "id": "fe64b88f"
   },
   "outputs": [],
   "source": [
    "cvKFold=StratifiedKFold(n_splits=4, shuffle=True, random_state=0)"
   ]
  },
  {
   "cell_type": "markdown",
   "id": "RIml1RXHvk5b",
   "metadata": {
    "id": "RIml1RXHvk5b"
   },
   "source": [
    "#### 2.1.3 Hyperparameter tuning (Grid Search)"
   ]
  },
  {
   "cell_type": "code",
   "execution_count": 19,
   "id": "wdnEVCSjvkuD",
   "metadata": {
    "id": "wdnEVCSjvkuD"
   },
   "outputs": [],
   "source": [
    "C = [0.001, 0.01, 0.1, 1, 10, 100] \n",
    "gamma = [0.001, 0.01, 0.1, 1, 10, 100] \n",
    "\n",
    "def bestLinClassifier(X,y):\n",
    "    param_grid = {'C': C, 'gamma': gamma}\n",
    "    clf = GridSearchCV(SVC(kernel=\"linear\"), param_grid, cv=4, return_train_score=True)\n",
    "    clf.fit(X,y)\n",
    "\n",
    "    result = {}\n",
    "    result['C'] = clf.best_params_.get('C')\n",
    "    result['gamma'] = clf.best_params_.get('gamma')\n",
    "\n",
    "    return result"
   ]
  },
  {
   "cell_type": "code",
   "execution_count": 20,
   "id": "53V61g6E4zzr",
   "metadata": {
    "colab": {
     "base_uri": "https://localhost:8080/"
    },
    "id": "53V61g6E4zzr",
    "outputId": "cd6e7424-0917-4ffc-ee2a-3aebe036ea89"
   },
   "outputs": [
    {
     "name": "stdout",
     "output_type": "stream",
     "text": [
      "{'C': 0.1, 'gamma': 0.001}\n"
     ]
    }
   ],
   "source": [
    "LinClassresult = bestLinClassifier(X_train_pca[:1000,:], y_train_full[:1000])\n",
    "print(LinClassresult)\n"
   ]
  },
  {
   "cell_type": "markdown",
   "id": "zy6IcKA0YwjH",
   "metadata": {
    "id": "zy6IcKA0YwjH"
   },
   "source": [
    "The best parameter combination is C=0.1 and gamma=0.001."
   ]
  },
  {
   "cell_type": "markdown",
   "id": "KfzGz_9L_9Gk",
   "metadata": {
    "id": "KfzGz_9L_9Gk"
   },
   "source": [
    "#### 2.1.3 Final SVM"
   ]
  },
  {
   "cell_type": "code",
   "execution_count": null,
   "id": "OjmJ6s2fAB7F",
   "metadata": {
    "id": "OjmJ6s2fAB7F"
   },
   "outputs": [],
   "source": [
    "Final_SVM = SVC(C=0.1,gamma=0.001,kernel=\"linear\")\n",
    "Final_SVM.fit(X_train_pca[:60000,:], y_train_full[:60000])\n",
    "X_test_SVM = np.zeros(shape=(10000,784))\n",
    "i = 0\n",
    "for x in X_test:\n",
    "  X_test_SVM[i] = pic_to_list(x)\n",
    "  i = i + 1\n",
    "X_test_pca = pca.transform(X_test_SVM)\n",
    "y_pred = Final_SVM.predict(X_test_pca)\n",
    "\n"
   ]
  },
  {
   "cell_type": "code",
   "execution_count": null,
   "id": "8tEKkKimS2TI",
   "metadata": {
    "colab": {
     "base_uri": "https://localhost:8080/"
    },
    "id": "8tEKkKimS2TI",
    "outputId": "de0bc957-1901-4871-f4bd-9fed907664fe"
   },
   "outputs": [
    {
     "data": {
      "text/plain": [
       "0.857"
      ]
     },
     "execution_count": 77,
     "metadata": {},
     "output_type": "execute_result"
    }
   ],
   "source": [
    "# Output the accuracy on test data\n",
    "accuracy_score(y_test, y_pred)"
   ]
  },
  {
   "cell_type": "markdown",
   "id": "MC_6k5YdYsA9",
   "metadata": {
    "id": "MC_6k5YdYsA9"
   },
   "source": [
    "The final accuracy is 0.857."
   ]
  },
  {
   "cell_type": "markdown",
   "id": "70c23b2c",
   "metadata": {
    "id": "70c23b2c"
   },
   "source": [
    "### 2.2 Fully connected neural network"
   ]
  },
  {
   "cell_type": "markdown",
   "id": "5ac47b30",
   "metadata": {
    "id": "5ac47b30"
   },
   "source": [
    "#### 2.2.1 Creating a validation set"
   ]
  },
  {
   "cell_type": "code",
   "execution_count": 21,
   "id": "9d9009b4",
   "metadata": {
    "id": "9d9009b4"
   },
   "outputs": [],
   "source": [
    "# Aside 10% of the original training data for validation set which helps to  \n",
    "# hyperparameter tuning and determine the appropriate point to stop training to minimise overfitting \n",
    "X_train, X_valid, y_train, y_valid = train_test_split(X_train_full, y_train_full, train_size=0.9)"
   ]
  },
  {
   "cell_type": "markdown",
   "id": "448511b1",
   "metadata": {
    "id": "448511b1"
   },
   "source": [
    "#### 2.2.2 Defining the model"
   ]
  },
  {
   "cell_type": "code",
   "execution_count": null,
   "id": "09f77219",
   "metadata": {
    "id": "09f77219"
   },
   "outputs": [],
   "source": [
    "# Define our MLP layer by layer\n",
    "model = keras.models.Sequential([\n",
    "    keras.layers.Flatten(input_shape=[28, 28]),       # first flatten layer tansfer data shape [28,28] to vector with 748 dimensions. \n",
    "    keras.layers.Dense(300, activation=\"tanh\"),       # fully connected layer called Dense\n",
    "    keras.layers.Dense(100, activation=\"tanh\"),\n",
    "    keras.layers.Dense(10, activation=\"softmax\")      # Output layer that has 10 neurans.\n",
    "])"
   ]
  },
  {
   "cell_type": "code",
   "execution_count": null,
   "id": "IZ3n2eDxL7Jt",
   "metadata": {
    "colab": {
     "base_uri": "https://localhost:8080/"
    },
    "id": "IZ3n2eDxL7Jt",
    "outputId": "54b42c1f-7109-4ed1-f77e-599a19ff57a2"
   },
   "outputs": [
    {
     "name": "stdout",
     "output_type": "stream",
     "text": [
      "Model: \"sequential\"\n",
      "_________________________________________________________________\n",
      " Layer (type)                Output Shape              Param #   \n",
      "=================================================================\n",
      " flatten (Flatten)           (None, 784)               0         \n",
      "                                                                 \n",
      " dense (Dense)               (None, 300)               235500    \n",
      "                                                                 \n",
      " dense_1 (Dense)             (None, 100)               30100     \n",
      "                                                                 \n",
      " dense_2 (Dense)             (None, 10)                1010      \n",
      "                                                                 \n",
      "=================================================================\n",
      "Total params: 266,610\n",
      "Trainable params: 266,610\n",
      "Non-trainable params: 0\n",
      "_________________________________________________________________\n"
     ]
    }
   ],
   "source": [
    "model.summary()"
   ]
  },
  {
   "cell_type": "markdown",
   "id": "ed33a88b",
   "metadata": {
    "id": "ed33a88b"
   },
   "source": [
    "#### 2.2.3 Specifying the optimiser and loss function"
   ]
  },
  {
   "cell_type": "code",
   "execution_count": null,
   "id": "e79effa1",
   "metadata": {
    "id": "e79effa1"
   },
   "outputs": [],
   "source": [
    "opt = keras.optimizers.SGD(learning_rate=5e-2)\n",
    "model.compile(loss='sparse_categorical_crossentropy',\n",
    "              optimizer=opt,\n",
    "              metrics=['accuracy'])"
   ]
  },
  {
   "cell_type": "markdown",
   "id": "7dadd0ff",
   "metadata": {
    "id": "7dadd0ff"
   },
   "source": [
    "#### 2.2.4 Training and evaluating the model"
   ]
  },
  {
   "cell_type": "code",
   "execution_count": null,
   "id": "6bd57022",
   "metadata": {
    "id": "6bd57022"
   },
   "outputs": [],
   "source": [
    "# Train the classifier.\n",
    "history = model.fit(X_train, y_train, epochs=20,\n",
    "                    validation_data=(X_valid, y_valid))"
   ]
  },
  {
   "cell_type": "code",
   "execution_count": null,
   "id": "64b9aad0",
   "metadata": {
    "id": "64b9aad0"
   },
   "outputs": [],
   "source": [
    "# Convert the history dictionary to a Pandas dataframe and extract the accuracies\n",
    "accuracies = pd.DataFrame(history.history)[['accuracy', 'val_accuracy']]\n",
    "\n",
    "# Plot the accuracies\n",
    "accuracies.plot(figsize=(8, 5))\n",
    "plt.grid(True)\n",
    "plt.gca().set_ylim(0.8, 1)\n",
    "plt.xlabel('Epoch')\n",
    "plt.show()"
   ]
  },
  {
   "cell_type": "markdown",
   "id": "LYjZINTcRFon",
   "metadata": {
    "id": "LYjZINTcRFon"
   },
   "source": [
    "We now compare the validation accuracy with the test accuracy:"
   ]
  },
  {
   "cell_type": "code",
   "execution_count": null,
   "id": "nVtoHzO0RCAA",
   "metadata": {
    "colab": {
     "base_uri": "https://localhost:8080/"
    },
    "id": "nVtoHzO0RCAA",
    "outputId": "0a6f01c0-4b9e-4c52-cbdd-12038ba775b2"
   },
   "outputs": [
    {
     "name": "stdout",
     "output_type": "stream",
     "text": [
      "313/313 [==============================] - 1s 2ms/step - loss: 0.3389 - accuracy: 0.8805\n",
      "Accuracy on test data: 0.8805\n"
     ]
    }
   ],
   "source": [
    "# Evaluate the classifier on the test data.\n",
    "loss, accuracy = model.evaluate(X_test, y_test)\n",
    "print(f\"Accuracy on test data: {accuracy:.4f}\")"
   ]
  },
  {
   "cell_type": "markdown",
   "id": "5qpY3hJnRNgf",
   "metadata": {
    "id": "5qpY3hJnRNgf"
   },
   "source": [
    "Validation accuracy at the end of 20 epoch is 0.8882, while the accuracy on the test set is 0.8805."
   ]
  },
  {
   "cell_type": "markdown",
   "id": "c0f732a2",
   "metadata": {
    "id": "c0f732a2"
   },
   "source": [
    "#### 2.2.5 Hyperparameter tuning"
   ]
  },
  {
   "cell_type": "code",
   "execution_count": null,
   "id": "xvG36hDufG9q",
   "metadata": {
    "id": "xvG36hDufG9q"
   },
   "outputs": [],
   "source": [
    "def build_mlp(\n",
    "    n_hidden_layers=2, n_hidden_neurons=50,\n",
    "    activation_function=\"relu\", input_shape=[28,28]\n",
    "):\n",
    "    \"\"\"Build a Keras MLP for 10 class classification with desired parameters.\"\"\"\n",
    "    \n",
    "    model = keras.models.Sequential()\n",
    "    \n",
    "    # Add the input layer\n",
    "    model.add(keras.layers.Flatten(input_shape=input_shape))\n",
    "    \n",
    "    # Add the hidden layers with desired size and activation function\n",
    "    for layer in range(n_hidden_layers):\n",
    "        model.add(keras.layers.Dense(n_hidden_neurons, activation=activation_function))\n",
    "        \n",
    "    # Add the output layer for 10 class classification\n",
    "    model.add(keras.layers.Dense(10, activation=\"softmax\"))\n",
    "    \n",
    "    return model"
   ]
  },
  {
   "cell_type": "code",
   "execution_count": null,
   "id": "t99f1VJkfCBd",
   "metadata": {
    "id": "t99f1VJkfCBd"
   },
   "outputs": [],
   "source": [
    "# Create a KerasClassifier object which works with sklearn grid searches\n",
    "# We need to pass default values of arguments in build_mlp if we wish to tune them\n",
    "keras_classifier = KerasClassifier(build_mlp,\n",
    "                  n_hidden_layers=2,\n",
    "                  n_hidden_neurons=50,\n",
    "                  activation_function=\"relu\",\n",
    "                  loss=\"sparse_categorical_crossentropy\",\n",
    "                  optimizer=\"sgd\",\n",
    "                  optimizer__lr=0.01,\n",
    "                  metrics=[\"accuracy\"]\n",
    "                )"
   ]
  },
  {
   "cell_type": "code",
   "execution_count": null,
   "id": "61d2d1ec",
   "metadata": {
    "id": "61d2d1ec"
   },
   "outputs": [],
   "source": [
    "param_grid = {\n",
    "    \"optimizer__lr\": [0.1, 0.01, 0.001],\n",
    "    \"activation_function\": [\"relu\", \"sigmoid\", \"tanh\", None]\n",
    "      }\n",
    "\n",
    "grid_search_cv = GridSearchCV(keras_classifier, param_grid, cv=3, verbose=2)\n",
    "grid_search_cv.fit(X_train, y_train, epochs=20)"
   ]
  },
  {
   "cell_type": "markdown",
   "id": "EH3-RkIt3cW5",
   "metadata": {
    "id": "EH3-RkIt3cW5"
   },
   "source": [
    "Create a function to conver dict to string:"
   ]
  },
  {
   "cell_type": "code",
   "execution_count": 38,
   "id": "sUUrSw6S3gg3",
   "metadata": {
    "id": "sUUrSw6S3gg3"
   },
   "outputs": [],
   "source": [
    "def dict_to_string_list(dic):\n",
    "  # This function helps to produce appropriate \n",
    "  # visualisations/tables of the trends in hyperparameter search\n",
    "  \n",
    "  string_list = []\n",
    "  for x in dic:\n",
    "    s = str(x[\"activation_function\"])+\"\\n\"+str(x[\"optimizer__lr\"])  \n",
    "    string_list.append(s)\n",
    "  \n",
    "  return string_list"
   ]
  },
  {
   "cell_type": "code",
   "execution_count": null,
   "id": "smdlSbktrr30",
   "metadata": {
    "colab": {
     "base_uri": "https://localhost:8080/",
     "height": 249
    },
    "id": "smdlSbktrr30",
    "outputId": "84f04289-3f55-4aa2-e207-c74f72d3c3ae"
   },
   "outputs": [
    {
     "ename": "NameError",
     "evalue": "ignored",
     "output_type": "error",
     "traceback": [
      "\u001b[0;31m---------------------------------------------------------------------------\u001b[0m",
      "\u001b[0;31mNameError\u001b[0m                                 Traceback (most recent call last)",
      "\u001b[0;32m<ipython-input-16-cb713bddec39>\u001b[0m in \u001b[0;36m<module>\u001b[0;34m\u001b[0m\n\u001b[0;32m----> 1\u001b[0;31m \u001b[0mprint\u001b[0m\u001b[0;34m(\u001b[0m\u001b[0mgrid_search_cv\u001b[0m\u001b[0;34m.\u001b[0m\u001b[0mbest_params_\u001b[0m\u001b[0;34m)\u001b[0m\u001b[0;34m\u001b[0m\u001b[0;34m\u001b[0m\u001b[0m\n\u001b[0m\u001b[1;32m      2\u001b[0m \u001b[0mbest_model\u001b[0m \u001b[0;34m=\u001b[0m \u001b[0mgrid_search_cv\u001b[0m\u001b[0;34m.\u001b[0m\u001b[0mbest_estimator_\u001b[0m\u001b[0;34m.\u001b[0m\u001b[0mmodel\u001b[0m\u001b[0;34m\u001b[0m\u001b[0;34m\u001b[0m\u001b[0m\n\u001b[1;32m      3\u001b[0m \u001b[0;34m\u001b[0m\u001b[0m\n\u001b[1;32m      4\u001b[0m \u001b[0mpara\u001b[0m \u001b[0;34m=\u001b[0m \u001b[0mgrid_search_cv\u001b[0m\u001b[0;34m.\u001b[0m\u001b[0mcv_results_\u001b[0m\u001b[0;34m[\u001b[0m\u001b[0;34m\"params\"\u001b[0m\u001b[0;34m]\u001b[0m       \u001b[0;31m#params combinations\u001b[0m\u001b[0;34m\u001b[0m\u001b[0;34m\u001b[0m\u001b[0m\n\u001b[1;32m      5\u001b[0m \u001b[0;34m\u001b[0m\u001b[0m\n",
      "\u001b[0;31mNameError\u001b[0m: name 'grid_search_cv' is not defined"
     ]
    }
   ],
   "source": [
    "print(grid_search_cv.best_params_)\n",
    "best_model = grid_search_cv.best_estimator_.model\n",
    "\n",
    "para = grid_search_cv.cv_results_[\"params\"]       #params combinations\n",
    "\n",
    "plt.figure(figsize=(12, 3))               #change figure size\n",
    "plt.gca().set_ylim(50, 90)\n",
    "plt.bar(dict_to_string_list(para),grid_search_cv.cv_results_[\"mean_fit_time\"])  # here we use params conbinations as x-axis and time as y-axis\n"
   ]
  },
  {
   "cell_type": "code",
   "execution_count": null,
   "id": "e8XxU1ha7oIX",
   "metadata": {
    "colab": {
     "base_uri": "https://localhost:8080/",
     "height": 306
    },
    "id": "e8XxU1ha7oIX",
    "outputId": "12794b66-8c93-4c52-9d15-7c388f7e04d5"
   },
   "outputs": [
    {
     "data": {
      "text/plain": [
       "<BarContainer object of 12 artists>"
      ]
     },
     "execution_count": 28,
     "metadata": {},
     "output_type": "execute_result"
    },
    {
     "data": {
      "image/png": "[encoded data removed]",
      "text/plain": [
       "<Figure size 864x288 with 1 Axes>"
      ]
     },
     "metadata": {
      "needs_background": "light"
     },
     "output_type": "display_data"
    }
   ],
   "source": [
    "plt.figure(figsize=(12, 4)) \n",
    "plt.gca().set_ylim(0.8, 0.9)\n",
    "plt.bar(dict_to_string_list(para),grid_search_cv.cv_results_[\"mean_test_score\"])"
   ]
  },
  {
   "cell_type": "markdown",
   "id": "41kvXrRyCu0A",
   "metadata": {
    "id": "41kvXrRyCu0A"
   },
   "source": [
    "#### 2.2.6 Final MLP model"
   ]
  },
  {
   "cell_type": "code",
   "execution_count": null,
   "id": "YTn7C7ZtCwZC",
   "metadata": {
    "colab": {
     "base_uri": "https://localhost:8080/",
     "height": 1000
    },
    "id": "YTn7C7ZtCwZC",
    "outputId": "365ffd9c-7f9f-4734-eecd-54f6c6890eca"
   },
   "outputs": [
    {
     "name": "stdout",
     "output_type": "stream",
     "text": [
      "Epoch 1/20\n",
      "1688/1688 [==============================] - 11s 5ms/step - loss: 0.5329 - accuracy: 0.8069 - val_loss: 0.4244 - val_accuracy: 0.8530\n",
      "Epoch 2/20\n",
      "1688/1688 [==============================] - 7s 4ms/step - loss: 0.3848 - accuracy: 0.8589 - val_loss: 0.4718 - val_accuracy: 0.8282\n",
      "Epoch 3/20\n",
      "1688/1688 [==============================] - 6s 4ms/step - loss: 0.3446 - accuracy: 0.8706 - val_loss: 0.3627 - val_accuracy: 0.8665\n",
      "Epoch 4/20\n",
      "1688/1688 [==============================] - 6s 4ms/step - loss: 0.3199 - accuracy: 0.8818 - val_loss: 0.3533 - val_accuracy: 0.8733\n",
      "Epoch 5/20\n",
      "1688/1688 [==============================] - 6s 4ms/step - loss: 0.3022 - accuracy: 0.8856 - val_loss: 0.3521 - val_accuracy: 0.8710\n",
      "Epoch 6/20\n",
      "1688/1688 [==============================] - 8s 5ms/step - loss: 0.2866 - accuracy: 0.8932 - val_loss: 0.4227 - val_accuracy: 0.8493\n",
      "Epoch 7/20\n",
      "1688/1688 [==============================] - 10s 6ms/step - loss: 0.2736 - accuracy: 0.8971 - val_loss: 0.3327 - val_accuracy: 0.8833\n",
      "Epoch 8/20\n",
      "1688/1688 [==============================] - 6s 4ms/step - loss: 0.2587 - accuracy: 0.9026 - val_loss: 0.3042 - val_accuracy: 0.8878\n",
      "Epoch 9/20\n",
      "1688/1688 [==============================] - 6s 3ms/step - loss: 0.2512 - accuracy: 0.9046 - val_loss: 0.3314 - val_accuracy: 0.8800\n",
      "Epoch 10/20\n",
      "1688/1688 [==============================] - 6s 4ms/step - loss: 0.2426 - accuracy: 0.9092 - val_loss: 0.3413 - val_accuracy: 0.8773\n",
      "Epoch 11/20\n",
      "1688/1688 [==============================] - 6s 3ms/step - loss: 0.2338 - accuracy: 0.9100 - val_loss: 0.3168 - val_accuracy: 0.8895\n",
      "Epoch 12/20\n",
      "1688/1688 [==============================] - 8s 5ms/step - loss: 0.2251 - accuracy: 0.9148 - val_loss: 0.3188 - val_accuracy: 0.8880\n",
      "Epoch 13/20\n",
      "1688/1688 [==============================] - 6s 4ms/step - loss: 0.2199 - accuracy: 0.9164 - val_loss: 0.3296 - val_accuracy: 0.8868\n",
      "Epoch 14/20\n",
      "1688/1688 [==============================] - 7s 4ms/step - loss: 0.2125 - accuracy: 0.9197 - val_loss: 0.3680 - val_accuracy: 0.8717\n",
      "Epoch 15/20\n",
      "1688/1688 [==============================] - 6s 4ms/step - loss: 0.2071 - accuracy: 0.9210 - val_loss: 0.3407 - val_accuracy: 0.8790\n",
      "Epoch 16/20\n",
      "1688/1688 [==============================] - 6s 3ms/step - loss: 0.1989 - accuracy: 0.9255 - val_loss: 0.3124 - val_accuracy: 0.8890\n",
      "Epoch 17/20\n",
      "1688/1688 [==============================] - 6s 3ms/step - loss: 0.1933 - accuracy: 0.9256 - val_loss: 0.3174 - val_accuracy: 0.8935\n",
      "Epoch 18/20\n",
      "1688/1688 [==============================] - 6s 3ms/step - loss: 0.1865 - accuracy: 0.9292 - val_loss: 0.3809 - val_accuracy: 0.8670\n",
      "Epoch 19/20\n",
      "1688/1688 [==============================] - 6s 3ms/step - loss: 0.1846 - accuracy: 0.9305 - val_loss: 0.3067 - val_accuracy: 0.8965\n",
      "Epoch 20/20\n",
      "1688/1688 [==============================] - 6s 4ms/step - loss: 0.1797 - accuracy: 0.9304 - val_loss: 0.3336 - val_accuracy: 0.8938\n"
     ]
    },
    {
     "data": {
      "image/png": "[encoded data removed]",
      "text/plain": [
       "<Figure size 576x360 with 1 Axes>"
      ]
     },
     "metadata": {
      "needs_background": "light"
     },
     "output_type": "display_data"
    }
   ],
   "source": [
    "model_final = keras.models.Sequential([\n",
    "    keras.layers.Flatten(input_shape=[28, 28]),\n",
    "    keras.layers.Dense(300, activation=\"relu\"),       \n",
    "    keras.layers.Dense(100, activation=\"relu\"),\n",
    "    keras.layers.Dense(10, activation=\"softmax\")     \n",
    "])\n",
    "opt_final = keras.optimizers.SGD(learning_rate=0.1)\n",
    "model_final.compile(loss='sparse_categorical_crossentropy',\n",
    "              optimizer=opt_final,\n",
    "              metrics=['accuracy'])\n",
    "history = model_final.fit(X_train, y_train, epochs=20,\n",
    "                    validation_data=(X_valid, y_valid))\n",
    "accuracies = pd.DataFrame(history.history)[['accuracy', 'val_accuracy']]\n",
    "\n",
    "# Plot the accuracies\n",
    "accuracies.plot(figsize=(8, 5))\n",
    "plt.grid(True)\n",
    "plt.gca().set_ylim(0.8, 1)\n",
    "plt.xlabel('Epoch')\n",
    "plt.show()"
   ]
  },
  {
   "cell_type": "code",
   "execution_count": null,
   "id": "awNqMv_R7Vbq",
   "metadata": {
    "id": "awNqMv_R7Vbq"
   },
   "outputs": [],
   "source": [
    "# Evaluate the classifier on the test data.\n",
    "loss, accuracy = model_final.evaluate(X_test, y_test)\n",
    "print(f\"Fianl model Accuracy on test data: {accuracy:.4f}\")"
   ]
  },
  {
   "cell_type": "markdown",
   "id": "b59bac8c",
   "metadata": {
    "id": "b59bac8c"
   },
   "source": [
    "## 2.3 Convolutional neural network"
   ]
  },
  {
   "cell_type": "markdown",
   "id": "0vbNvY_P49wX",
   "metadata": {
    "id": "0vbNvY_P49wX"
   },
   "source": [
    "#### 2.3.1 Adding an extra dimension"
   ]
  },
  {
   "cell_type": "code",
   "execution_count": 22,
   "id": "94c8d635",
   "metadata": {
    "colab": {
     "base_uri": "https://localhost:8080/"
    },
    "id": "94c8d635",
    "outputId": "ed53efbc-bbaf-4bf9-bfce-58c4de7b052a"
   },
   "outputs": [
    {
     "name": "stdout",
     "output_type": "stream",
     "text": [
      "New shape of X_train: (54000, 28, 28, 1)\n"
     ]
    }
   ],
   "source": [
    "# Add an extra dimension to our data\n",
    "X_train = np.expand_dims(X_train, -1)\n",
    "X_valid = np.expand_dims(X_valid, -1)\n",
    "X_test = np.expand_dims(X_test, -1)\n",
    "print(f\"New shape of X_train: {X_train.shape}\")"
   ]
  },
  {
   "cell_type": "markdown",
   "id": "04b6Dtv3-oIy",
   "metadata": {
    "id": "04b6Dtv3-oIy"
   },
   "source": [
    "#### 2.3.2 Defining the model"
   ]
  },
  {
   "cell_type": "code",
   "execution_count": 23,
   "id": "mY1-MMCT-pf2",
   "metadata": {
    "colab": {
     "base_uri": "https://localhost:8080/"
    },
    "id": "mY1-MMCT-pf2",
    "outputId": "844d5bf8-e38a-43d8-e1ef-e409576d995c"
   },
   "outputs": [
    {
     "name": "stdout",
     "output_type": "stream",
     "text": [
      "Model: \"sequential\"\n",
      "_________________________________________________________________\n",
      " Layer (type)                Output Shape              Param #   \n",
      "=================================================================\n",
      " conv2d (Conv2D)             (None, 26, 26, 32)        320       \n",
      "                                                                 \n",
      " max_pooling2d (MaxPooling2D  (None, 13, 13, 32)       0         \n",
      " )                                                               \n",
      "                                                                 \n",
      " conv2d_1 (Conv2D)           (None, 11, 11, 64)        18496     \n",
      "                                                                 \n",
      " max_pooling2d_1 (MaxPooling  (None, 5, 5, 64)         0         \n",
      " 2D)                                                             \n",
      "                                                                 \n",
      " flatten (Flatten)           (None, 1600)              0         \n",
      "                                                                 \n",
      " dropout (Dropout)           (None, 1600)              0         \n",
      "                                                                 \n",
      " dense (Dense)               (None, 10)                16010     \n",
      "                                                                 \n",
      "=================================================================\n",
      "Total params: 34,826\n",
      "Trainable params: 34,826\n",
      "Non-trainable params: 0\n",
      "_________________________________________________________________\n"
     ]
    }
   ],
   "source": [
    "model = keras.Sequential([\n",
    "    \n",
    "# Specify the input shape\n",
    "keras.Input(shape=(28, 28, 1)),\n",
    "    \n",
    "# Conv and pool block 1\n",
    "keras.layers.Conv2D(32, kernel_size=(3, 3), activation=\"relu\"),\n",
    "keras.layers.MaxPooling2D(pool_size=(2, 2)),\n",
    "    \n",
    "# Conv and pool block 2\n",
    "keras.layers.Conv2D(64, kernel_size=(3, 3), activation=\"relu\"),\n",
    "keras.layers.MaxPooling2D(pool_size=(2, 2)),\n",
    "    \n",
    "# Flatten and classify using dense output layer\n",
    "keras.layers.Flatten(),\n",
    "keras.layers.Dropout(0.5),\n",
    "keras.layers.Dense(10, activation=\"softmax\"),\n",
    "])\n",
    "\n",
    "model.summary()"
   ]
  },
  {
   "cell_type": "markdown",
   "id": "-TPIKh8VGIC2",
   "metadata": {
    "id": "-TPIKh8VGIC2"
   },
   "source": [
    "#### 2.3.3 Specifying the optimiser and loss function"
   ]
  },
  {
   "cell_type": "code",
   "execution_count": 24,
   "id": "PB4lexNhGJfQ",
   "metadata": {
    "id": "PB4lexNhGJfQ"
   },
   "outputs": [],
   "source": [
    "# Compile model with loss, optimiser, and metrics\n",
    "model.compile(loss='sparse_categorical_crossentropy',\n",
    "optimizer=\"adam\",\n",
    "metrics=['accuracy'])"
   ]
  },
  {
   "cell_type": "markdown",
   "id": "yhz3vOK5Gj7g",
   "metadata": {
    "id": "yhz3vOK5Gj7g"
   },
   "source": [
    "#### 2.3.4 Training and evaluating the model"
   ]
  },
  {
   "cell_type": "code",
   "execution_count": 26,
   "id": "g7hTouzDGlPV",
   "metadata": {
    "colab": {
     "base_uri": "https://localhost:8080/"
    },
    "id": "g7hTouzDGlPV",
    "outputId": "57968796-2a71-46ef-d5fb-c0f8dcc5882f"
   },
   "outputs": [
    {
     "name": "stdout",
     "output_type": "stream",
     "text": [
      "Epoch 1/10\n",
      "422/422 [==============================] - 2s 6ms/step - loss: 0.6890 - accuracy: 0.7503 - val_loss: 0.4595 - val_accuracy: 0.8408\n",
      "Epoch 2/10\n",
      "422/422 [==============================] - 2s 5ms/step - loss: 0.4574 - accuracy: 0.8334 - val_loss: 0.3941 - val_accuracy: 0.8640\n",
      "Epoch 3/10\n",
      "422/422 [==============================] - 2s 5ms/step - loss: 0.4048 - accuracy: 0.8552 - val_loss: 0.3591 - val_accuracy: 0.8722\n",
      "Epoch 4/10\n",
      "422/422 [==============================] - 2s 5ms/step - loss: 0.3726 - accuracy: 0.8654 - val_loss: 0.3399 - val_accuracy: 0.8783\n",
      "Epoch 5/10\n",
      "422/422 [==============================] - 2s 5ms/step - loss: 0.3504 - accuracy: 0.8743 - val_loss: 0.3250 - val_accuracy: 0.8852\n",
      "Epoch 6/10\n",
      "422/422 [==============================] - 2s 5ms/step - loss: 0.3340 - accuracy: 0.8790 - val_loss: 0.3040 - val_accuracy: 0.8913\n",
      "Epoch 7/10\n",
      "422/422 [==============================] - 2s 5ms/step - loss: 0.3195 - accuracy: 0.8837 - val_loss: 0.3007 - val_accuracy: 0.8942\n",
      "Epoch 8/10\n",
      "422/422 [==============================] - 2s 5ms/step - loss: 0.3141 - accuracy: 0.8854 - val_loss: 0.2899 - val_accuracy: 0.8978\n",
      "Epoch 9/10\n",
      "422/422 [==============================] - 2s 5ms/step - loss: 0.3008 - accuracy: 0.8906 - val_loss: 0.2802 - val_accuracy: 0.8995\n",
      "Epoch 10/10\n",
      "422/422 [==============================] - 2s 5ms/step - loss: 0.2924 - accuracy: 0.8939 - val_loss: 0.2755 - val_accuracy: 0.9027\n"
     ]
    }
   ],
   "source": [
    "# Train the model for 10 epochs with batch size 128\n",
    "batch_size = 128\n",
    "epochs = 10\n",
    "history = model.fit(X_train, y_train, batch_size=batch_size,\n",
    "epochs=epochs, validation_data=(X_valid, y_valid))\n",
    "\n"
   ]
  },
  {
   "cell_type": "code",
   "execution_count": 27,
   "id": "TL5vPUaDGqTa",
   "metadata": {
    "colab": {
     "base_uri": "https://localhost:8080/"
    },
    "id": "TL5vPUaDGqTa",
    "outputId": "d5effb55-f13e-4b83-eadf-3a05d6b21603"
   },
   "outputs": [
    {
     "name": "stdout",
     "output_type": "stream",
     "text": [
      "313/313 [==============================] - 1s 3ms/step - loss: 0.2877 - accuracy: 0.8967\n",
      "Accuracy on test data: 0.8967\n"
     ]
    }
   ],
   "source": [
    "# Evaluate the classifier on the test data.\n",
    "loss, accuracy = model.evaluate(X_test, y_test)\n",
    "print(f\"Accuracy on test data: {accuracy:.4f}\")"
   ]
  },
  {
   "cell_type": "markdown",
   "id": "7ysS292a4RWD",
   "metadata": {
    "id": "7ysS292a4RWD"
   },
   "source": [
    "#### 2.3.5 Hyperparameter tuning"
   ]
  },
  {
   "cell_type": "code",
   "execution_count": 28,
   "id": "4vi1QH-D4XDB",
   "metadata": {
    "id": "4vi1QH-D4XDB"
   },
   "outputs": [],
   "source": [
    "def build_cnn(kernel_size=(3,3), strides=1, activation_function=\"relu\", input_shape=[28,28,1]):\n",
    "\n",
    "    \"\"\"Build a Keras CNN for 10 class classification with desired parameters.\"\"\"\n",
    "    \n",
    "    model = keras.models.Sequential()\n",
    "    \n",
    "    # Add the input layer\n",
    "    model.add(keras.Input(shape=input_shape))\n",
    "    \n",
    "    # Add the convolution layers with desired size and activation function\n",
    "    model.add(keras.layers.Conv2D(32, kernel_size=(3, 3), activation=\"relu\"))\n",
    "    model.add(keras.layers.MaxPooling2D(pool_size=(2, 2)))\n",
    "\n",
    "    model.add(keras.layers.Conv2D(64, kernel_size=(3, 3), activation=\"relu\"))\n",
    "    model.add(keras.layers.MaxPooling2D(pool_size=(2, 2)))\n",
    "        \n",
    "    # Add the output layer for 10 class classification\n",
    "    model.add(keras.layers.Flatten())\n",
    "    model.add(keras.layers.Dropout(0.5))\n",
    "    model.add(keras.layers.Dense(10, activation=\"softmax\"))\n",
    "    \n",
    "    return model"
   ]
  },
  {
   "cell_type": "code",
   "execution_count": 29,
   "id": "I6ALLtjI5FjX",
   "metadata": {
    "id": "I6ALLtjI5FjX"
   },
   "outputs": [],
   "source": [
    "# Create a KerasClassifier object which works with sklearn grid searches\n",
    "# We need to pass default values of arguments in build_mlp if we wish to tune them\n",
    "keras_classifier = KerasClassifier(build_cnn,\n",
    "          kernel_size=(3,3),\n",
    "          strides=1,\n",
    "          activation_function=\"relu\",\n",
    "          loss=\"sparse_categorical_crossentropy\",\n",
    "          optimizer=\"adam\",\n",
    "          optimizer__lr=0.01,\n",
    "          metrics=[\"accuracy\"]\n",
    "          )"
   ]
  },
  {
   "cell_type": "code",
   "execution_count": 36,
   "id": "ycjkitMO5gXi",
   "metadata": {
    "colab": {
     "base_uri": "https://localhost:8080/"
    },
    "id": "ycjkitMO5gXi",
    "outputId": "34311344-774b-4e88-da1f-b0dab9767e0b"
   },
   "outputs": [
    {
     "name": "stdout",
     "output_type": "stream",
     "text": [
      "Fitting 3 folds for each of 12 candidates, totalling 36 fits\n",
      "Epoch 1/20\n"
     ]
    },
    {
     "name": "stderr",
     "output_type": "stream",
     "text": [
      "/usr/local/lib/python3.7/dist-packages/keras/optimizers/optimizer_v2/adam.py:110: UserWarning: The `lr` argument is deprecated, use `learning_rate` instead.\n",
      "  super(Adam, self).__init__(name, **kwargs)\n"
     ]
    },
    {
     "name": "stdout",
     "output_type": "stream",
     "text": [
      "1125/1125 [==============================] - 4s 3ms/step - loss: 1.1176 - accuracy: 0.6108\n",
      "Epoch 2/20\n",
      "1125/1125 [==============================] - 4s 4ms/step - loss: 0.9997 - accuracy: 0.6338\n",
      "Epoch 3/20\n",
      "1125/1125 [==============================] - 3s 3ms/step - loss: 1.0878 - accuracy: 0.6019\n",
      "Epoch 4/20\n",
      "1125/1125 [==============================] - 3s 3ms/step - loss: 1.1214 - accuracy: 0.5936\n",
      "Epoch 5/20\n",
      "1125/1125 [==============================] - 3s 3ms/step - loss: 1.1273 - accuracy: 0.5859\n",
      "Epoch 6/20\n",
      "1125/1125 [==============================] - 3s 3ms/step - loss: 1.0971 - accuracy: 0.5928\n",
      "Epoch 7/20\n",
      "1125/1125 [==============================] - 3s 3ms/step - loss: 1.1196 - accuracy: 0.5874\n",
      "Epoch 8/20\n",
      "1125/1125 [==============================] - 3s 3ms/step - loss: 1.1138 - accuracy: 0.5904\n",
      "Epoch 9/20\n",
      "1125/1125 [==============================] - 3s 3ms/step - loss: 1.2305 - accuracy: 0.5500\n",
      "Epoch 10/20\n",
      "1125/1125 [==============================] - 3s 3ms/step - loss: 1.2859 - accuracy: 0.5256\n",
      "Epoch 11/20\n",
      "1125/1125 [==============================] - 3s 3ms/step - loss: 1.2780 - accuracy: 0.5256\n",
      "Epoch 12/20\n",
      "1125/1125 [==============================] - 3s 3ms/step - loss: 1.2731 - accuracy: 0.5312\n",
      "Epoch 13/20\n",
      "1125/1125 [==============================] - 3s 3ms/step - loss: 1.2613 - accuracy: 0.5376\n",
      "Epoch 14/20\n",
      "1125/1125 [==============================] - 3s 3ms/step - loss: 1.2616 - accuracy: 0.5327\n",
      "Epoch 15/20\n",
      "1125/1125 [==============================] - 3s 3ms/step - loss: 1.2220 - accuracy: 0.5425\n",
      "Epoch 16/20\n",
      "1125/1125 [==============================] - 3s 3ms/step - loss: 1.3457 - accuracy: 0.4889\n",
      "Epoch 17/20\n",
      "1125/1125 [==============================] - 3s 3ms/step - loss: 1.2638 - accuracy: 0.5305\n",
      "Epoch 18/20\n",
      "1125/1125 [==============================] - 3s 3ms/step - loss: 1.2382 - accuracy: 0.5429\n",
      "Epoch 19/20\n",
      "1125/1125 [==============================] - 4s 4ms/step - loss: 1.4115 - accuracy: 0.4797\n",
      "Epoch 20/20\n",
      "1125/1125 [==============================] - 3s 3ms/step - loss: 2.3152 - accuracy: 0.0996\n",
      "563/563 [==============================] - 1s 2ms/step\n",
      "[CV] END ...kernel_size=(3, 3), optimizer__lr=0.1, strides=1; total time= 1.2min\n",
      "Epoch 1/20\n"
     ]
    },
    {
     "name": "stderr",
     "output_type": "stream",
     "text": [
      "/usr/local/lib/python3.7/dist-packages/keras/optimizers/optimizer_v2/adam.py:110: UserWarning: The `lr` argument is deprecated, use `learning_rate` instead.\n",
      "  super(Adam, self).__init__(name, **kwargs)\n"
     ]
    },
    {
     "name": "stdout",
     "output_type": "stream",
     "text": [
      "1125/1125 [==============================] - 4s 3ms/step - loss: 2.5093 - accuracy: 0.0991\n",
      "Epoch 2/20\n",
      "1125/1125 [==============================] - 3s 3ms/step - loss: 2.3141 - accuracy: 0.0996\n",
      "Epoch 3/20\n",
      "1125/1125 [==============================] - 3s 3ms/step - loss: 2.3165 - accuracy: 0.0986\n",
      "Epoch 4/20\n",
      "1125/1125 [==============================] - 3s 3ms/step - loss: 2.3160 - accuracy: 0.0989\n",
      "Epoch 5/20\n",
      "1125/1125 [==============================] - 3s 3ms/step - loss: 2.3155 - accuracy: 0.0995\n",
      "Epoch 6/20\n",
      "1125/1125 [==============================] - 4s 3ms/step - loss: 2.3155 - accuracy: 0.0980\n",
      "Epoch 7/20\n",
      "1125/1125 [==============================] - 3s 3ms/step - loss: 2.3148 - accuracy: 0.1012\n",
      "Epoch 8/20\n",
      "1125/1125 [==============================] - 3s 3ms/step - loss: 2.3154 - accuracy: 0.1022\n",
      "Epoch 9/20\n",
      "1125/1125 [==============================] - 3s 3ms/step - loss: 2.3158 - accuracy: 0.0968\n",
      "Epoch 10/20\n",
      "1125/1125 [==============================] - 3s 3ms/step - loss: 2.3156 - accuracy: 0.1022\n",
      "Epoch 11/20\n",
      "1125/1125 [==============================] - 3s 3ms/step - loss: 2.3144 - accuracy: 0.0975\n",
      "Epoch 12/20\n",
      "1125/1125 [==============================] - 3s 3ms/step - loss: 2.3148 - accuracy: 0.0990\n",
      "Epoch 13/20\n",
      "1125/1125 [==============================] - 3s 3ms/step - loss: 2.3154 - accuracy: 0.1016\n",
      "Epoch 14/20\n",
      "1125/1125 [==============================] - 3s 3ms/step - loss: 2.3153 - accuracy: 0.1021\n",
      "Epoch 15/20\n",
      "1125/1125 [==============================] - 3s 3ms/step - loss: 2.3157 - accuracy: 0.1030\n",
      "Epoch 16/20\n",
      "1125/1125 [==============================] - 5s 4ms/step - loss: 2.3155 - accuracy: 0.1013\n",
      "Epoch 17/20\n",
      "1125/1125 [==============================] - 3s 3ms/step - loss: 2.3149 - accuracy: 0.0988\n",
      "Epoch 18/20\n",
      "1125/1125 [==============================] - 3s 3ms/step - loss: 2.3150 - accuracy: 0.0989\n",
      "Epoch 19/20\n",
      "1125/1125 [==============================] - 3s 3ms/step - loss: 2.3159 - accuracy: 0.1004\n",
      "Epoch 20/20\n",
      "1125/1125 [==============================] - 3s 3ms/step - loss: 2.3159 - accuracy: 0.0978\n",
      "563/563 [==============================] - 1s 2ms/step\n",
      "[CV] END ...kernel_size=(3, 3), optimizer__lr=0.1, strides=1; total time= 1.4min\n",
      "Epoch 1/20\n"
     ]
    },
    {
     "name": "stderr",
     "output_type": "stream",
     "text": [
      "/usr/local/lib/python3.7/dist-packages/keras/optimizers/optimizer_v2/adam.py:110: UserWarning: The `lr` argument is deprecated, use `learning_rate` instead.\n",
      "  super(Adam, self).__init__(name, **kwargs)\n"
     ]
    },
    {
     "name": "stdout",
     "output_type": "stream",
     "text": [
      "1125/1125 [==============================] - 4s 3ms/step - loss: 2.4842 - accuracy: 0.0990\n",
      "Epoch 2/20\n",
      "1125/1125 [==============================] - 3s 3ms/step - loss: 2.3153 - accuracy: 0.1007\n",
      "Epoch 3/20\n",
      "1125/1125 [==============================] - 3s 3ms/step - loss: 2.3159 - accuracy: 0.0982\n",
      "Epoch 4/20\n",
      "1125/1125 [==============================] - 3s 3ms/step - loss: 2.3159 - accuracy: 0.0988\n",
      "Epoch 5/20\n",
      "1125/1125 [==============================] - 3s 3ms/step - loss: 2.3149 - accuracy: 0.1015\n",
      "Epoch 6/20\n",
      "1125/1125 [==============================] - 3s 3ms/step - loss: 2.3146 - accuracy: 0.0990\n",
      "Epoch 7/20\n",
      "1125/1125 [==============================] - 3s 3ms/step - loss: 2.3153 - accuracy: 0.0996\n",
      "Epoch 8/20\n",
      "1125/1125 [==============================] - 3s 3ms/step - loss: 2.3153 - accuracy: 0.0978\n",
      "Epoch 9/20\n",
      "1125/1125 [==============================] - 3s 3ms/step - loss: 2.3157 - accuracy: 0.0996\n",
      "Epoch 10/20\n",
      "1125/1125 [==============================] - 3s 3ms/step - loss: 2.3158 - accuracy: 0.1014\n",
      "Epoch 11/20\n",
      "1125/1125 [==============================] - 3s 3ms/step - loss: 2.3149 - accuracy: 0.0999\n",
      "Epoch 12/20\n",
      "1125/1125 [==============================] - 3s 3ms/step - loss: 2.3154 - accuracy: 0.1020\n",
      "Epoch 13/20\n",
      "1125/1125 [==============================] - 3s 3ms/step - loss: 2.3158 - accuracy: 0.1023\n",
      "Epoch 14/20\n",
      "1125/1125 [==============================] - 3s 3ms/step - loss: 2.3168 - accuracy: 0.0983\n",
      "Epoch 15/20\n",
      "1125/1125 [==============================] - 3s 3ms/step - loss: 2.3147 - accuracy: 0.0998\n",
      "Epoch 16/20\n",
      "1125/1125 [==============================] - 3s 3ms/step - loss: 2.3151 - accuracy: 0.1008\n",
      "Epoch 17/20\n",
      "1125/1125 [==============================] - 3s 3ms/step - loss: 2.3149 - accuracy: 0.0989\n",
      "Epoch 18/20\n",
      "1125/1125 [==============================] - 3s 3ms/step - loss: 2.3151 - accuracy: 0.0995\n",
      "Epoch 19/20\n",
      "1125/1125 [==============================] - 3s 3ms/step - loss: 2.3158 - accuracy: 0.1006\n",
      "Epoch 20/20\n",
      "1125/1125 [==============================] - 3s 3ms/step - loss: 2.3160 - accuracy: 0.1009\n",
      "563/563 [==============================] - 1s 2ms/step\n",
      "[CV] END ...kernel_size=(3, 3), optimizer__lr=0.1, strides=1; total time= 1.4min\n",
      "Epoch 1/20\n"
     ]
    },
    {
     "name": "stderr",
     "output_type": "stream",
     "text": [
      "/usr/local/lib/python3.7/dist-packages/keras/optimizers/optimizer_v2/adam.py:110: UserWarning: The `lr` argument is deprecated, use `learning_rate` instead.\n",
      "  super(Adam, self).__init__(name, **kwargs)\n"
     ]
    },
    {
     "name": "stdout",
     "output_type": "stream",
     "text": [
      "1125/1125 [==============================] - 4s 3ms/step - loss: 1.0948 - accuracy: 0.6134\n",
      "Epoch 2/20\n",
      "1125/1125 [==============================] - 3s 3ms/step - loss: 1.0480 - accuracy: 0.6125\n",
      "Epoch 3/20\n",
      "1125/1125 [==============================] - 3s 3ms/step - loss: 1.0895 - accuracy: 0.6023\n",
      "Epoch 4/20\n",
      "1125/1125 [==============================] - 3s 3ms/step - loss: 1.1612 - accuracy: 0.5743\n",
      "Epoch 5/20\n",
      "1125/1125 [==============================] - 4s 4ms/step - loss: 1.1638 - accuracy: 0.5743\n",
      "Epoch 6/20\n",
      "1125/1125 [==============================] - 4s 4ms/step - loss: 1.1365 - accuracy: 0.5826\n",
      "Epoch 7/20\n",
      "1125/1125 [==============================] - 3s 3ms/step - loss: 1.2013 - accuracy: 0.5602\n",
      "Epoch 8/20\n",
      "1125/1125 [==============================] - 3s 3ms/step - loss: 1.1265 - accuracy: 0.5876\n",
      "Epoch 9/20\n",
      "1125/1125 [==============================] - 5s 5ms/step - loss: 1.1775 - accuracy: 0.5721\n",
      "Epoch 10/20\n",
      "1125/1125 [==============================] - 5s 4ms/step - loss: 1.1587 - accuracy: 0.5681\n",
      "Epoch 11/20\n",
      "1125/1125 [==============================] - 4s 4ms/step - loss: 1.1790 - accuracy: 0.5638\n",
      "Epoch 12/20\n",
      "1125/1125 [==============================] - 3s 3ms/step - loss: 1.1474 - accuracy: 0.5757\n",
      "Epoch 13/20\n",
      "1125/1125 [==============================] - 4s 4ms/step - loss: 1.4344 - accuracy: 0.4520\n",
      "Epoch 14/20\n",
      "1125/1125 [==============================] - 5s 4ms/step - loss: 1.4558 - accuracy: 0.4444\n",
      "Epoch 15/20\n",
      "1125/1125 [==============================] - 4s 4ms/step - loss: 1.3906 - accuracy: 0.4726\n",
      "Epoch 16/20\n",
      "1125/1125 [==============================] - 4s 3ms/step - loss: 1.4197 - accuracy: 0.4577\n",
      "Epoch 17/20\n",
      "1125/1125 [==============================] - 3s 3ms/step - loss: 1.4559 - accuracy: 0.4420\n",
      "Epoch 18/20\n",
      "1125/1125 [==============================] - 3s 3ms/step - loss: 1.4106 - accuracy: 0.4643\n",
      "Epoch 19/20\n",
      "1125/1125 [==============================] - 3s 3ms/step - loss: 1.4941 - accuracy: 0.4071\n",
      "Epoch 20/20\n",
      "1125/1125 [==============================] - 3s 3ms/step - loss: 1.4267 - accuracy: 0.4595\n",
      "563/563 [==============================] - 1s 2ms/step\n",
      "[CV] END ...kernel_size=(3, 3), optimizer__lr=0.1, strides=2; total time= 1.3min\n",
      "Epoch 1/20\n"
     ]
    },
    {
     "name": "stderr",
     "output_type": "stream",
     "text": [
      "/usr/local/lib/python3.7/dist-packages/keras/optimizers/optimizer_v2/adam.py:110: UserWarning: The `lr` argument is deprecated, use `learning_rate` instead.\n",
      "  super(Adam, self).__init__(name, **kwargs)\n"
     ]
    },
    {
     "name": "stdout",
     "output_type": "stream",
     "text": [
      "1125/1125 [==============================] - 4s 3ms/step - loss: 2.4371 - accuracy: 0.0990\n",
      "Epoch 2/20\n",
      "1125/1125 [==============================] - 3s 3ms/step - loss: 2.3141 - accuracy: 0.0995\n",
      "Epoch 3/20\n",
      "1125/1125 [==============================] - 3s 3ms/step - loss: 2.3165 - accuracy: 0.0985\n",
      "Epoch 4/20\n",
      "1125/1125 [==============================] - 3s 3ms/step - loss: 2.3160 - accuracy: 0.0989\n",
      "Epoch 5/20\n",
      "1125/1125 [==============================] - 3s 3ms/step - loss: 2.3155 - accuracy: 0.0995\n",
      "Epoch 6/20\n",
      "1125/1125 [==============================] - 3s 3ms/step - loss: 2.3155 - accuracy: 0.0980\n",
      "Epoch 7/20\n",
      "1125/1125 [==============================] - 3s 3ms/step - loss: 2.3148 - accuracy: 0.1012\n",
      "Epoch 8/20\n",
      "1125/1125 [==============================] - 3s 3ms/step - loss: 2.3154 - accuracy: 0.1022\n",
      "Epoch 9/20\n",
      "1125/1125 [==============================] - 3s 3ms/step - loss: 2.3158 - accuracy: 0.0968\n",
      "Epoch 10/20\n",
      "1125/1125 [==============================] - 3s 3ms/step - loss: 2.3156 - accuracy: 0.1022\n",
      "Epoch 11/20\n",
      "1125/1125 [==============================] - 3s 3ms/step - loss: 2.3144 - accuracy: 0.0975\n",
      "Epoch 12/20\n",
      "1125/1125 [==============================] - 3s 3ms/step - loss: 2.3148 - accuracy: 0.0990\n",
      "Epoch 13/20\n",
      "1125/1125 [==============================] - 3s 3ms/step - loss: 2.3154 - accuracy: 0.1016\n",
      "Epoch 14/20\n",
      "1125/1125 [==============================] - 3s 3ms/step - loss: 2.3153 - accuracy: 0.1021\n",
      "Epoch 15/20\n",
      "1125/1125 [==============================] - 3s 3ms/step - loss: 2.3157 - accuracy: 0.1030\n",
      "Epoch 16/20\n",
      "1125/1125 [==============================] - 3s 3ms/step - loss: 2.3155 - accuracy: 0.1013\n",
      "Epoch 17/20\n",
      "1125/1125 [==============================] - 3s 3ms/step - loss: 2.3149 - accuracy: 0.0988\n",
      "Epoch 18/20\n",
      "1125/1125 [==============================] - 3s 3ms/step - loss: 2.3150 - accuracy: 0.0989\n",
      "Epoch 19/20\n",
      "1125/1125 [==============================] - 3s 3ms/step - loss: 2.3159 - accuracy: 0.1004\n",
      "Epoch 20/20\n",
      "1125/1125 [==============================] - 3s 3ms/step - loss: 2.3159 - accuracy: 0.0978\n",
      "563/563 [==============================] - 1s 2ms/step\n",
      "[CV] END ...kernel_size=(3, 3), optimizer__lr=0.1, strides=2; total time= 1.4min\n",
      "Epoch 1/20\n"
     ]
    },
    {
     "name": "stderr",
     "output_type": "stream",
     "text": [
      "/usr/local/lib/python3.7/dist-packages/keras/optimizers/optimizer_v2/adam.py:110: UserWarning: The `lr` argument is deprecated, use `learning_rate` instead.\n",
      "  super(Adam, self).__init__(name, **kwargs)\n"
     ]
    },
    {
     "name": "stdout",
     "output_type": "stream",
     "text": [
      "1125/1125 [==============================] - 4s 3ms/step - loss: 2.4818 - accuracy: 0.0985\n",
      "Epoch 2/20\n",
      "1125/1125 [==============================] - 3s 3ms/step - loss: 2.3152 - accuracy: 0.1006\n",
      "Epoch 3/20\n",
      "1125/1125 [==============================] - 3s 3ms/step - loss: 2.3159 - accuracy: 0.0981\n",
      "Epoch 4/20\n",
      "1125/1125 [==============================] - 3s 3ms/step - loss: 2.3159 - accuracy: 0.0988\n",
      "Epoch 5/20\n",
      "1125/1125 [==============================] - 3s 3ms/step - loss: 2.3149 - accuracy: 0.1015\n",
      "Epoch 6/20\n",
      "1125/1125 [==============================] - 3s 3ms/step - loss: 2.3146 - accuracy: 0.0990\n",
      "Epoch 7/20\n",
      "1125/1125 [==============================] - 3s 3ms/step - loss: 2.3153 - accuracy: 0.0996\n",
      "Epoch 8/20\n",
      "1125/1125 [==============================] - 3s 3ms/step - loss: 2.3153 - accuracy: 0.0978\n",
      "Epoch 9/20\n",
      "1125/1125 [==============================] - 3s 3ms/step - loss: 2.3157 - accuracy: 0.0996\n",
      "Epoch 10/20\n",
      "1125/1125 [==============================] - 3s 3ms/step - loss: 2.3158 - accuracy: 0.1014\n",
      "Epoch 11/20\n",
      "1125/1125 [==============================] - 3s 3ms/step - loss: 2.3149 - accuracy: 0.0999\n",
      "Epoch 12/20\n",
      "1125/1125 [==============================] - 3s 3ms/step - loss: 2.3154 - accuracy: 0.1020\n",
      "Epoch 13/20\n",
      "1125/1125 [==============================] - 3s 3ms/step - loss: 2.3158 - accuracy: 0.1023\n",
      "Epoch 14/20\n",
      "1125/1125 [==============================] - 3s 3ms/step - loss: 2.3168 - accuracy: 0.0983\n",
      "Epoch 15/20\n",
      "1125/1125 [==============================] - 3s 3ms/step - loss: 2.3147 - accuracy: 0.0998\n",
      "Epoch 16/20\n",
      "1125/1125 [==============================] - 3s 3ms/step - loss: 2.3151 - accuracy: 0.1008\n",
      "Epoch 17/20\n",
      "1125/1125 [==============================] - 3s 3ms/step - loss: 2.3149 - accuracy: 0.0989\n",
      "Epoch 18/20\n",
      "1125/1125 [==============================] - 3s 3ms/step - loss: 2.3151 - accuracy: 0.0995\n",
      "Epoch 19/20\n",
      "1125/1125 [==============================] - 3s 3ms/step - loss: 2.3158 - accuracy: 0.1006\n",
      "Epoch 20/20\n",
      "1125/1125 [==============================] - 3s 3ms/step - loss: 2.3160 - accuracy: 0.1009\n",
      "563/563 [==============================] - 1s 2ms/step\n",
      "[CV] END ...kernel_size=(3, 3), optimizer__lr=0.1, strides=2; total time= 1.2min\n",
      "Epoch 1/20\n"
     ]
    },
    {
     "name": "stderr",
     "output_type": "stream",
     "text": [
      "/usr/local/lib/python3.7/dist-packages/keras/optimizers/optimizer_v2/adam.py:110: UserWarning: The `lr` argument is deprecated, use `learning_rate` instead.\n",
      "  super(Adam, self).__init__(name, **kwargs)\n"
     ]
    },
    {
     "name": "stdout",
     "output_type": "stream",
     "text": [
      "1125/1125 [==============================] - 4s 3ms/step - loss: 0.5715 - accuracy: 0.7956\n",
      "Epoch 2/20\n",
      "1125/1125 [==============================] - 3s 3ms/step - loss: 0.4636 - accuracy: 0.8314\n",
      "Epoch 3/20\n",
      "1125/1125 [==============================] - 4s 3ms/step - loss: 0.4530 - accuracy: 0.8322\n",
      "Epoch 4/20\n",
      "1125/1125 [==============================] - 3s 3ms/step - loss: 0.4387 - accuracy: 0.8381\n",
      "Epoch 5/20\n",
      "1125/1125 [==============================] - 3s 3ms/step - loss: 0.4424 - accuracy: 0.8381\n",
      "Epoch 6/20\n",
      "1125/1125 [==============================] - 3s 3ms/step - loss: 0.4267 - accuracy: 0.8406\n",
      "Epoch 7/20\n",
      "1125/1125 [==============================] - 3s 3ms/step - loss: 0.4245 - accuracy: 0.8430\n",
      "Epoch 8/20\n",
      "1125/1125 [==============================] - 3s 3ms/step - loss: 0.4244 - accuracy: 0.8397\n",
      "Epoch 9/20\n",
      "1125/1125 [==============================] - 3s 3ms/step - loss: 0.4327 - accuracy: 0.8378\n",
      "Epoch 10/20\n",
      "1125/1125 [==============================] - 3s 3ms/step - loss: 0.4256 - accuracy: 0.8411\n",
      "Epoch 11/20\n",
      "1125/1125 [==============================] - 3s 3ms/step - loss: 0.4282 - accuracy: 0.8397\n",
      "Epoch 12/20\n",
      "1125/1125 [==============================] - 3s 3ms/step - loss: 0.4318 - accuracy: 0.8391\n",
      "Epoch 13/20\n",
      "1125/1125 [==============================] - 3s 3ms/step - loss: 0.4388 - accuracy: 0.8367\n",
      "Epoch 14/20\n",
      "1125/1125 [==============================] - 3s 3ms/step - loss: 0.4301 - accuracy: 0.8376\n",
      "Epoch 15/20\n",
      "1125/1125 [==============================] - 3s 3ms/step - loss: 0.4282 - accuracy: 0.8387\n",
      "Epoch 16/20\n",
      "1125/1125 [==============================] - 3s 3ms/step - loss: 0.4231 - accuracy: 0.8403\n",
      "Epoch 17/20\n",
      "1125/1125 [==============================] - 3s 3ms/step - loss: 0.4321 - accuracy: 0.8395\n",
      "Epoch 18/20\n",
      "1125/1125 [==============================] - 3s 3ms/step - loss: 0.4234 - accuracy: 0.8406\n",
      "Epoch 19/20\n",
      "1125/1125 [==============================] - 3s 3ms/step - loss: 0.4238 - accuracy: 0.8418\n",
      "Epoch 20/20\n",
      "1125/1125 [==============================] - 3s 3ms/step - loss: 0.4205 - accuracy: 0.8434\n",
      "563/563 [==============================] - 1s 2ms/step\n",
      "[CV] END ..kernel_size=(3, 3), optimizer__lr=0.01, strides=1; total time= 1.4min\n",
      "Epoch 1/20\n"
     ]
    },
    {
     "name": "stderr",
     "output_type": "stream",
     "text": [
      "/usr/local/lib/python3.7/dist-packages/keras/optimizers/optimizer_v2/adam.py:110: UserWarning: The `lr` argument is deprecated, use `learning_rate` instead.\n",
      "  super(Adam, self).__init__(name, **kwargs)\n"
     ]
    },
    {
     "name": "stdout",
     "output_type": "stream",
     "text": [
      "1125/1125 [==============================] - 4s 3ms/step - loss: 0.5665 - accuracy: 0.7964\n",
      "Epoch 2/20\n",
      "1125/1125 [==============================] - 3s 3ms/step - loss: 0.4623 - accuracy: 0.8330\n",
      "Epoch 3/20\n",
      "1125/1125 [==============================] - 3s 3ms/step - loss: 0.4456 - accuracy: 0.8388\n",
      "Epoch 4/20\n",
      "1125/1125 [==============================] - 3s 3ms/step - loss: 0.4344 - accuracy: 0.8407\n",
      "Epoch 5/20\n",
      "1125/1125 [==============================] - 3s 3ms/step - loss: 0.4319 - accuracy: 0.8420\n",
      "Epoch 6/20\n",
      "1125/1125 [==============================] - 3s 3ms/step - loss: 0.4291 - accuracy: 0.8452\n",
      "Epoch 7/20\n",
      "1125/1125 [==============================] - 3s 3ms/step - loss: 0.4230 - accuracy: 0.8464\n",
      "Epoch 8/20\n",
      "1125/1125 [==============================] - 3s 3ms/step - loss: 0.4231 - accuracy: 0.8462\n",
      "Epoch 9/20\n",
      "1125/1125 [==============================] - 3s 3ms/step - loss: 0.4193 - accuracy: 0.8464\n",
      "Epoch 10/20\n",
      "1125/1125 [==============================] - 3s 3ms/step - loss: 0.4192 - accuracy: 0.8471\n",
      "Epoch 11/20\n",
      "1125/1125 [==============================] - 3s 3ms/step - loss: 0.4185 - accuracy: 0.8458\n",
      "Epoch 12/20\n",
      "1125/1125 [==============================] - 3s 3ms/step - loss: 0.4182 - accuracy: 0.8471\n",
      "Epoch 13/20\n",
      "1125/1125 [==============================] - 3s 3ms/step - loss: 0.4149 - accuracy: 0.8486\n",
      "Epoch 14/20\n",
      "1125/1125 [==============================] - 3s 3ms/step - loss: 0.4173 - accuracy: 0.8459\n",
      "Epoch 15/20\n",
      "1125/1125 [==============================] - 3s 3ms/step - loss: 0.4107 - accuracy: 0.8500\n",
      "Epoch 16/20\n",
      "1125/1125 [==============================] - 3s 3ms/step - loss: 0.4087 - accuracy: 0.8524\n",
      "Epoch 17/20\n",
      "1125/1125 [==============================] - 3s 3ms/step - loss: 0.4084 - accuracy: 0.8518\n",
      "Epoch 18/20\n",
      "1125/1125 [==============================] - 3s 3ms/step - loss: 0.4063 - accuracy: 0.8508\n",
      "Epoch 19/20\n",
      "1125/1125 [==============================] - 3s 3ms/step - loss: 0.4228 - accuracy: 0.8472\n",
      "Epoch 20/20\n",
      "1125/1125 [==============================] - 3s 3ms/step - loss: 0.4133 - accuracy: 0.8481\n",
      "563/563 [==============================] - 1s 2ms/step\n",
      "[CV] END ..kernel_size=(3, 3), optimizer__lr=0.01, strides=1; total time= 1.1min\n",
      "Epoch 1/20\n"
     ]
    },
    {
     "name": "stderr",
     "output_type": "stream",
     "text": [
      "/usr/local/lib/python3.7/dist-packages/keras/optimizers/optimizer_v2/adam.py:110: UserWarning: The `lr` argument is deprecated, use `learning_rate` instead.\n",
      "  super(Adam, self).__init__(name, **kwargs)\n"
     ]
    },
    {
     "name": "stdout",
     "output_type": "stream",
     "text": [
      "1125/1125 [==============================] - 4s 3ms/step - loss: 0.5572 - accuracy: 0.7981\n",
      "Epoch 2/20\n",
      "1125/1125 [==============================] - 3s 3ms/step - loss: 0.4680 - accuracy: 0.8313\n",
      "Epoch 3/20\n",
      "1125/1125 [==============================] - 3s 3ms/step - loss: 0.4525 - accuracy: 0.8356\n",
      "Epoch 4/20\n",
      "1125/1125 [==============================] - 3s 3ms/step - loss: 0.4439 - accuracy: 0.8388\n",
      "Epoch 5/20\n",
      "1125/1125 [==============================] - 3s 3ms/step - loss: 0.4338 - accuracy: 0.8400\n",
      "Epoch 6/20\n",
      "1125/1125 [==============================] - 3s 3ms/step - loss: 0.4205 - accuracy: 0.8444\n",
      "Epoch 7/20\n",
      "1125/1125 [==============================] - 3s 3ms/step - loss: 0.4254 - accuracy: 0.8442\n",
      "Epoch 8/20\n",
      "1125/1125 [==============================] - 3s 3ms/step - loss: 0.4183 - accuracy: 0.8461\n",
      "Epoch 9/20\n",
      "1125/1125 [==============================] - 3s 3ms/step - loss: 0.4295 - accuracy: 0.8422\n",
      "Epoch 10/20\n",
      "1125/1125 [==============================] - 3s 3ms/step - loss: 0.4208 - accuracy: 0.8449\n",
      "Epoch 11/20\n",
      "1125/1125 [==============================] - 4s 3ms/step - loss: 0.4129 - accuracy: 0.8470\n",
      "Epoch 12/20\n",
      "1125/1125 [==============================] - 3s 3ms/step - loss: 0.4233 - accuracy: 0.8455\n",
      "Epoch 13/20\n",
      "1125/1125 [==============================] - 3s 3ms/step - loss: 0.4197 - accuracy: 0.8464\n",
      "Epoch 14/20\n",
      "1125/1125 [==============================] - 3s 3ms/step - loss: 0.4184 - accuracy: 0.8443\n",
      "Epoch 15/20\n",
      "1125/1125 [==============================] - 3s 3ms/step - loss: 0.4208 - accuracy: 0.8452\n",
      "Epoch 16/20\n",
      "1125/1125 [==============================] - 3s 3ms/step - loss: 0.4122 - accuracy: 0.8461\n",
      "Epoch 17/20\n",
      "1125/1125 [==============================] - 3s 3ms/step - loss: 0.4185 - accuracy: 0.8448\n",
      "Epoch 18/20\n",
      "1125/1125 [==============================] - 3s 3ms/step - loss: 0.4160 - accuracy: 0.8449\n",
      "Epoch 19/20\n",
      "1125/1125 [==============================] - 3s 3ms/step - loss: 0.4083 - accuracy: 0.8485\n",
      "Epoch 20/20\n",
      "1125/1125 [==============================] - 3s 3ms/step - loss: 0.4138 - accuracy: 0.8480\n",
      "563/563 [==============================] - 1s 2ms/step\n",
      "[CV] END ..kernel_size=(3, 3), optimizer__lr=0.01, strides=1; total time= 1.1min\n",
      "Epoch 1/20\n"
     ]
    },
    {
     "name": "stderr",
     "output_type": "stream",
     "text": [
      "/usr/local/lib/python3.7/dist-packages/keras/optimizers/optimizer_v2/adam.py:110: UserWarning: The `lr` argument is deprecated, use `learning_rate` instead.\n",
      "  super(Adam, self).__init__(name, **kwargs)\n"
     ]
    },
    {
     "name": "stdout",
     "output_type": "stream",
     "text": [
      "1125/1125 [==============================] - 4s 3ms/step - loss: 0.5584 - accuracy: 0.7964\n",
      "Epoch 2/20\n",
      "1125/1125 [==============================] - 3s 3ms/step - loss: 0.4630 - accuracy: 0.8305\n",
      "Epoch 3/20\n",
      "1125/1125 [==============================] - 3s 3ms/step - loss: 0.4562 - accuracy: 0.8329\n",
      "Epoch 4/20\n",
      "1125/1125 [==============================] - 3s 3ms/step - loss: 0.4350 - accuracy: 0.8391\n",
      "Epoch 5/20\n",
      "1125/1125 [==============================] - 3s 3ms/step - loss: 0.4330 - accuracy: 0.8414\n",
      "Epoch 6/20\n",
      "1125/1125 [==============================] - 3s 3ms/step - loss: 0.4231 - accuracy: 0.8433\n",
      "Epoch 7/20\n",
      "1125/1125 [==============================] - 3s 3ms/step - loss: 0.4233 - accuracy: 0.8430\n",
      "Epoch 8/20\n",
      "1125/1125 [==============================] - 3s 3ms/step - loss: 0.4220 - accuracy: 0.8432\n",
      "Epoch 9/20\n",
      "1125/1125 [==============================] - 3s 3ms/step - loss: 0.4178 - accuracy: 0.8438\n",
      "Epoch 10/20\n",
      "1125/1125 [==============================] - 3s 3ms/step - loss: 0.4230 - accuracy: 0.8437\n",
      "Epoch 11/20\n",
      "1125/1125 [==============================] - 3s 3ms/step - loss: 0.4130 - accuracy: 0.8466\n",
      "Epoch 12/20\n",
      "1125/1125 [==============================] - 3s 3ms/step - loss: 0.4172 - accuracy: 0.8456\n",
      "Epoch 13/20\n",
      "1125/1125 [==============================] - 3s 3ms/step - loss: 0.4134 - accuracy: 0.8461\n",
      "Epoch 14/20\n",
      "1125/1125 [==============================] - 3s 3ms/step - loss: 0.4117 - accuracy: 0.8453\n",
      "Epoch 15/20\n",
      "1125/1125 [==============================] - 3s 3ms/step - loss: 0.4136 - accuracy: 0.8470\n",
      "Epoch 16/20\n",
      "1125/1125 [==============================] - 3s 3ms/step - loss: 0.4123 - accuracy: 0.8470\n",
      "Epoch 17/20\n",
      "1125/1125 [==============================] - 3s 3ms/step - loss: 0.4128 - accuracy: 0.8472\n",
      "Epoch 18/20\n",
      "1125/1125 [==============================] - 3s 3ms/step - loss: 0.4140 - accuracy: 0.8471\n",
      "Epoch 19/20\n",
      "1125/1125 [==============================] - 3s 3ms/step - loss: 0.4174 - accuracy: 0.8468\n",
      "Epoch 20/20\n",
      "1125/1125 [==============================] - 3s 3ms/step - loss: 0.4227 - accuracy: 0.8447\n",
      "563/563 [==============================] - 1s 2ms/step\n",
      "[CV] END ..kernel_size=(3, 3), optimizer__lr=0.01, strides=2; total time= 1.1min\n",
      "Epoch 1/20\n"
     ]
    },
    {
     "name": "stderr",
     "output_type": "stream",
     "text": [
      "/usr/local/lib/python3.7/dist-packages/keras/optimizers/optimizer_v2/adam.py:110: UserWarning: The `lr` argument is deprecated, use `learning_rate` instead.\n",
      "  super(Adam, self).__init__(name, **kwargs)\n"
     ]
    },
    {
     "name": "stdout",
     "output_type": "stream",
     "text": [
      "1125/1125 [==============================] - 4s 3ms/step - loss: 0.5642 - accuracy: 0.7993\n",
      "Epoch 2/20\n",
      "1125/1125 [==============================] - 3s 3ms/step - loss: 0.4659 - accuracy: 0.8317\n",
      "Epoch 3/20\n",
      "1125/1125 [==============================] - 3s 3ms/step - loss: 0.4521 - accuracy: 0.8356\n",
      "Epoch 4/20\n",
      "1125/1125 [==============================] - 3s 3ms/step - loss: 0.4398 - accuracy: 0.8403\n",
      "Epoch 5/20\n",
      "1125/1125 [==============================] - 3s 3ms/step - loss: 0.4407 - accuracy: 0.8399\n",
      "Epoch 6/20\n",
      "1125/1125 [==============================] - 3s 3ms/step - loss: 0.4375 - accuracy: 0.8410\n",
      "Epoch 7/20\n",
      "1125/1125 [==============================] - 3s 3ms/step - loss: 0.4307 - accuracy: 0.8423\n",
      "Epoch 8/20\n",
      "1125/1125 [==============================] - 3s 3ms/step - loss: 0.4311 - accuracy: 0.8428\n",
      "Epoch 9/20\n",
      "1125/1125 [==============================] - 3s 3ms/step - loss: 0.4304 - accuracy: 0.8442\n",
      "Epoch 10/20\n",
      "1125/1125 [==============================] - 3s 3ms/step - loss: 0.4258 - accuracy: 0.8447\n",
      "Epoch 11/20\n",
      "1125/1125 [==============================] - 3s 3ms/step - loss: 0.4291 - accuracy: 0.8432\n",
      "Epoch 12/20\n",
      "1125/1125 [==============================] - 3s 3ms/step - loss: 0.4224 - accuracy: 0.8471\n",
      "Epoch 13/20\n",
      "1125/1125 [==============================] - 3s 3ms/step - loss: 0.4224 - accuracy: 0.8468\n",
      "Epoch 14/20\n",
      "1125/1125 [==============================] - 3s 3ms/step - loss: 0.4214 - accuracy: 0.8432\n",
      "Epoch 15/20\n",
      "1125/1125 [==============================] - 3s 3ms/step - loss: 0.4234 - accuracy: 0.8449\n",
      "Epoch 16/20\n",
      "1125/1125 [==============================] - 3s 3ms/step - loss: 0.4167 - accuracy: 0.8476\n",
      "Epoch 17/20\n",
      "1125/1125 [==============================] - 3s 3ms/step - loss: 0.4215 - accuracy: 0.8449\n",
      "Epoch 18/20\n",
      "1125/1125 [==============================] - 3s 3ms/step - loss: 0.4280 - accuracy: 0.8419\n",
      "Epoch 19/20\n",
      "1125/1125 [==============================] - 3s 3ms/step - loss: 0.4253 - accuracy: 0.8437\n",
      "Epoch 20/20\n",
      "1125/1125 [==============================] - 3s 3ms/step - loss: 0.4208 - accuracy: 0.8457\n",
      "563/563 [==============================] - 1s 2ms/step\n",
      "[CV] END ..kernel_size=(3, 3), optimizer__lr=0.01, strides=2; total time= 1.4min\n",
      "Epoch 1/20\n"
     ]
    },
    {
     "name": "stderr",
     "output_type": "stream",
     "text": [
      "/usr/local/lib/python3.7/dist-packages/keras/optimizers/optimizer_v2/adam.py:110: UserWarning: The `lr` argument is deprecated, use `learning_rate` instead.\n",
      "  super(Adam, self).__init__(name, **kwargs)\n"
     ]
    },
    {
     "name": "stdout",
     "output_type": "stream",
     "text": [
      "1125/1125 [==============================] - 4s 3ms/step - loss: 0.5649 - accuracy: 0.7954\n",
      "Epoch 2/20\n",
      "1125/1125 [==============================] - 3s 3ms/step - loss: 0.4632 - accuracy: 0.8303\n",
      "Epoch 3/20\n",
      "1125/1125 [==============================] - 3s 3ms/step - loss: 0.4504 - accuracy: 0.8347\n",
      "Epoch 4/20\n",
      "1125/1125 [==============================] - 3s 3ms/step - loss: 0.4453 - accuracy: 0.8389\n",
      "Epoch 5/20\n",
      "1125/1125 [==============================] - 3s 3ms/step - loss: 0.4337 - accuracy: 0.8402\n",
      "Epoch 6/20\n",
      "1125/1125 [==============================] - 3s 3ms/step - loss: 0.4283 - accuracy: 0.8439\n",
      "Epoch 7/20\n",
      "1125/1125 [==============================] - 3s 3ms/step - loss: 0.4316 - accuracy: 0.8422\n",
      "Epoch 8/20\n",
      "1125/1125 [==============================] - 3s 3ms/step - loss: 0.4255 - accuracy: 0.8438\n",
      "Epoch 9/20\n",
      "1125/1125 [==============================] - 3s 3ms/step - loss: 0.4247 - accuracy: 0.8430\n",
      "Epoch 10/20\n",
      "1125/1125 [==============================] - 3s 3ms/step - loss: 0.4176 - accuracy: 0.8457\n",
      "Epoch 11/20\n",
      "1125/1125 [==============================] - 3s 3ms/step - loss: 0.4215 - accuracy: 0.8466\n",
      "Epoch 12/20\n",
      "1125/1125 [==============================] - 3s 3ms/step - loss: 0.4214 - accuracy: 0.8473\n",
      "Epoch 13/20\n",
      "1125/1125 [==============================] - 3s 3ms/step - loss: 0.4213 - accuracy: 0.8439\n",
      "Epoch 14/20\n",
      "1125/1125 [==============================] - 3s 3ms/step - loss: 0.4221 - accuracy: 0.8450\n",
      "Epoch 15/20\n",
      "1125/1125 [==============================] - 3s 3ms/step - loss: 0.4130 - accuracy: 0.8491\n",
      "Epoch 16/20\n",
      "1125/1125 [==============================] - 3s 3ms/step - loss: 0.4157 - accuracy: 0.8458\n",
      "Epoch 17/20\n",
      "1125/1125 [==============================] - 3s 3ms/step - loss: 0.4132 - accuracy: 0.8481\n",
      "Epoch 18/20\n",
      "1125/1125 [==============================] - 3s 3ms/step - loss: 0.4188 - accuracy: 0.8437\n",
      "Epoch 19/20\n",
      "1125/1125 [==============================] - 3s 3ms/step - loss: 0.4169 - accuracy: 0.8489\n",
      "Epoch 20/20\n",
      "1125/1125 [==============================] - 3s 3ms/step - loss: 0.4145 - accuracy: 0.8458\n",
      "563/563 [==============================] - 1s 2ms/step\n",
      "[CV] END ..kernel_size=(3, 3), optimizer__lr=0.01, strides=2; total time= 1.4min\n",
      "Epoch 1/20\n"
     ]
    },
    {
     "name": "stderr",
     "output_type": "stream",
     "text": [
      "/usr/local/lib/python3.7/dist-packages/keras/optimizers/optimizer_v2/adam.py:110: UserWarning: The `lr` argument is deprecated, use `learning_rate` instead.\n",
      "  super(Adam, self).__init__(name, **kwargs)\n"
     ]
    },
    {
     "name": "stdout",
     "output_type": "stream",
     "text": [
      "1125/1125 [==============================] - 4s 3ms/step - loss: 0.6245 - accuracy: 0.7699\n",
      "Epoch 2/20\n",
      "1125/1125 [==============================] - 3s 3ms/step - loss: 0.4320 - accuracy: 0.8428\n",
      "Epoch 3/20\n",
      "1125/1125 [==============================] - 3s 3ms/step - loss: 0.3885 - accuracy: 0.8596\n",
      "Epoch 4/20\n",
      "1125/1125 [==============================] - 3s 3ms/step - loss: 0.3579 - accuracy: 0.8695\n",
      "Epoch 5/20\n",
      "1125/1125 [==============================] - 3s 3ms/step - loss: 0.3358 - accuracy: 0.8763\n",
      "Epoch 6/20\n",
      "1125/1125 [==============================] - 3s 3ms/step - loss: 0.3197 - accuracy: 0.8834\n",
      "Epoch 7/20\n",
      "1125/1125 [==============================] - 3s 3ms/step - loss: 0.3069 - accuracy: 0.8889\n",
      "Epoch 8/20\n",
      "1125/1125 [==============================] - 3s 3ms/step - loss: 0.2940 - accuracy: 0.8924\n",
      "Epoch 9/20\n",
      "1125/1125 [==============================] - 3s 3ms/step - loss: 0.2851 - accuracy: 0.8945\n",
      "Epoch 10/20\n",
      "1125/1125 [==============================] - 3s 3ms/step - loss: 0.2791 - accuracy: 0.8970\n",
      "Epoch 11/20\n",
      "1125/1125 [==============================] - 3s 3ms/step - loss: 0.2697 - accuracy: 0.8992\n",
      "Epoch 12/20\n",
      "1125/1125 [==============================] - 3s 3ms/step - loss: 0.2664 - accuracy: 0.9016\n",
      "Epoch 13/20\n",
      "1125/1125 [==============================] - 3s 3ms/step - loss: 0.2609 - accuracy: 0.9044\n",
      "Epoch 14/20\n",
      "1125/1125 [==============================] - 3s 3ms/step - loss: 0.2581 - accuracy: 0.9034\n",
      "Epoch 15/20\n",
      "1125/1125 [==============================] - 3s 3ms/step - loss: 0.2529 - accuracy: 0.9064\n",
      "Epoch 16/20\n",
      "1125/1125 [==============================] - 3s 3ms/step - loss: 0.2513 - accuracy: 0.9070\n",
      "Epoch 17/20\n",
      "1125/1125 [==============================] - 3s 3ms/step - loss: 0.2453 - accuracy: 0.9087\n",
      "Epoch 18/20\n",
      "1125/1125 [==============================] - 3s 3ms/step - loss: 0.2424 - accuracy: 0.9101\n",
      "Epoch 19/20\n",
      "1125/1125 [==============================] - 3s 3ms/step - loss: 0.2395 - accuracy: 0.9109\n",
      "Epoch 20/20\n",
      "1125/1125 [==============================] - 3s 3ms/step - loss: 0.2348 - accuracy: 0.9134\n",
      "563/563 [==============================] - 1s 2ms/step\n",
      "[CV] END .kernel_size=(3, 3), optimizer__lr=0.001, strides=1; total time= 1.4min\n",
      "Epoch 1/20\n"
     ]
    },
    {
     "name": "stderr",
     "output_type": "stream",
     "text": [
      "/usr/local/lib/python3.7/dist-packages/keras/optimizers/optimizer_v2/adam.py:110: UserWarning: The `lr` argument is deprecated, use `learning_rate` instead.\n",
      "  super(Adam, self).__init__(name, **kwargs)\n"
     ]
    },
    {
     "name": "stdout",
     "output_type": "stream",
     "text": [
      "1125/1125 [==============================] - 4s 4ms/step - loss: 0.6184 - accuracy: 0.7724\n",
      "Epoch 2/20\n",
      "1125/1125 [==============================] - 5s 5ms/step - loss: 0.4293 - accuracy: 0.8445\n",
      "Epoch 3/20\n",
      "1125/1125 [==============================] - 4s 3ms/step - loss: 0.3871 - accuracy: 0.8617\n",
      "Epoch 4/20\n",
      "1125/1125 [==============================] - 3s 3ms/step - loss: 0.3562 - accuracy: 0.8715\n",
      "Epoch 5/20\n",
      "1125/1125 [==============================] - 3s 3ms/step - loss: 0.3380 - accuracy: 0.8780\n",
      "Epoch 6/20\n",
      "1125/1125 [==============================] - 3s 3ms/step - loss: 0.3174 - accuracy: 0.8843\n",
      "Epoch 7/20\n",
      "1125/1125 [==============================] - 4s 4ms/step - loss: 0.3069 - accuracy: 0.8870\n",
      "Epoch 8/20\n",
      "1125/1125 [==============================] - 3s 3ms/step - loss: 0.2943 - accuracy: 0.8928\n",
      "Epoch 9/20\n",
      "1125/1125 [==============================] - 4s 4ms/step - loss: 0.2883 - accuracy: 0.8950\n",
      "Epoch 10/20\n",
      "1125/1125 [==============================] - 4s 4ms/step - loss: 0.2807 - accuracy: 0.8968\n",
      "Epoch 11/20\n",
      "1125/1125 [==============================] - 5s 4ms/step - loss: 0.2710 - accuracy: 0.9007\n",
      "Epoch 12/20\n",
      "1125/1125 [==============================] - 4s 4ms/step - loss: 0.2659 - accuracy: 0.9030\n",
      "Epoch 13/20\n",
      "1125/1125 [==============================] - 4s 4ms/step - loss: 0.2611 - accuracy: 0.9041\n",
      "Epoch 14/20\n",
      "1125/1125 [==============================] - 4s 4ms/step - loss: 0.2580 - accuracy: 0.9053\n",
      "Epoch 15/20\n",
      "1125/1125 [==============================] - 4s 3ms/step - loss: 0.2529 - accuracy: 0.9067\n",
      "Epoch 16/20\n",
      "1125/1125 [==============================] - 3s 3ms/step - loss: 0.2479 - accuracy: 0.9082\n",
      "Epoch 17/20\n",
      "1125/1125 [==============================] - 3s 3ms/step - loss: 0.2435 - accuracy: 0.9099\n",
      "Epoch 18/20\n",
      "1125/1125 [==============================] - 3s 3ms/step - loss: 0.2429 - accuracy: 0.9098\n",
      "Epoch 19/20\n",
      "1125/1125 [==============================] - 3s 3ms/step - loss: 0.2385 - accuracy: 0.9130\n",
      "Epoch 20/20\n",
      "1125/1125 [==============================] - 3s 3ms/step - loss: 0.2339 - accuracy: 0.9142\n",
      "563/563 [==============================] - 1s 2ms/step\n",
      "[CV] END .kernel_size=(3, 3), optimizer__lr=0.001, strides=1; total time= 1.3min\n",
      "Epoch 1/20\n"
     ]
    },
    {
     "name": "stderr",
     "output_type": "stream",
     "text": [
      "/usr/local/lib/python3.7/dist-packages/keras/optimizers/optimizer_v2/adam.py:110: UserWarning: The `lr` argument is deprecated, use `learning_rate` instead.\n",
      "  super(Adam, self).__init__(name, **kwargs)\n"
     ]
    },
    {
     "name": "stdout",
     "output_type": "stream",
     "text": [
      "1125/1125 [==============================] - 4s 3ms/step - loss: 0.6157 - accuracy: 0.7784\n",
      "Epoch 2/20\n",
      "1125/1125 [==============================] - 3s 3ms/step - loss: 0.4323 - accuracy: 0.8443\n",
      "Epoch 3/20\n",
      "1125/1125 [==============================] - 3s 3ms/step - loss: 0.3856 - accuracy: 0.8603\n",
      "Epoch 4/20\n",
      "1125/1125 [==============================] - 3s 3ms/step - loss: 0.3543 - accuracy: 0.8730\n",
      "Epoch 5/20\n",
      "1125/1125 [==============================] - 3s 3ms/step - loss: 0.3350 - accuracy: 0.8773\n",
      "Epoch 6/20\n",
      "1125/1125 [==============================] - 3s 3ms/step - loss: 0.3167 - accuracy: 0.8849\n",
      "Epoch 7/20\n",
      "1125/1125 [==============================] - 3s 3ms/step - loss: 0.3033 - accuracy: 0.8896\n",
      "Epoch 8/20\n",
      "1125/1125 [==============================] - 3s 3ms/step - loss: 0.2956 - accuracy: 0.8907\n",
      "Epoch 9/20\n",
      "1125/1125 [==============================] - 3s 3ms/step - loss: 0.2869 - accuracy: 0.8962\n",
      "Epoch 10/20\n",
      "1125/1125 [==============================] - 3s 3ms/step - loss: 0.2820 - accuracy: 0.8959\n",
      "Epoch 11/20\n",
      "1125/1125 [==============================] - 3s 3ms/step - loss: 0.2734 - accuracy: 0.8999\n",
      "Epoch 12/20\n",
      "1125/1125 [==============================] - 3s 3ms/step - loss: 0.2643 - accuracy: 0.9026\n",
      "Epoch 13/20\n",
      "1125/1125 [==============================] - 3s 3ms/step - loss: 0.2612 - accuracy: 0.9040\n",
      "Epoch 14/20\n",
      "1125/1125 [==============================] - 3s 3ms/step - loss: 0.2589 - accuracy: 0.9041\n",
      "Epoch 15/20\n",
      "1125/1125 [==============================] - 3s 3ms/step - loss: 0.2515 - accuracy: 0.9074\n",
      "Epoch 16/20\n",
      "1125/1125 [==============================] - 3s 3ms/step - loss: 0.2486 - accuracy: 0.9080\n",
      "Epoch 17/20\n",
      "1125/1125 [==============================] - 3s 3ms/step - loss: 0.2445 - accuracy: 0.9089\n",
      "Epoch 18/20\n",
      "1125/1125 [==============================] - 3s 3ms/step - loss: 0.2455 - accuracy: 0.9081\n",
      "Epoch 19/20\n",
      "1125/1125 [==============================] - 3s 3ms/step - loss: 0.2370 - accuracy: 0.9115\n",
      "Epoch 20/20\n",
      "1125/1125 [==============================] - 4s 4ms/step - loss: 0.2312 - accuracy: 0.9149\n",
      "563/563 [==============================] - 1s 2ms/step\n",
      "[CV] END .kernel_size=(3, 3), optimizer__lr=0.001, strides=1; total time= 1.4min\n",
      "Epoch 1/20\n"
     ]
    },
    {
     "name": "stderr",
     "output_type": "stream",
     "text": [
      "/usr/local/lib/python3.7/dist-packages/keras/optimizers/optimizer_v2/adam.py:110: UserWarning: The `lr` argument is deprecated, use `learning_rate` instead.\n",
      "  super(Adam, self).__init__(name, **kwargs)\n"
     ]
    },
    {
     "name": "stdout",
     "output_type": "stream",
     "text": [
      "1125/1125 [==============================] - 4s 3ms/step - loss: 0.6292 - accuracy: 0.7668\n",
      "Epoch 2/20\n",
      "1125/1125 [==============================] - 3s 3ms/step - loss: 0.4291 - accuracy: 0.8424\n",
      "Epoch 3/20\n",
      "1125/1125 [==============================] - 3s 3ms/step - loss: 0.3779 - accuracy: 0.8618\n",
      "Epoch 4/20\n",
      "1125/1125 [==============================] - 3s 3ms/step - loss: 0.3514 - accuracy: 0.8734\n",
      "Epoch 5/20\n",
      "1125/1125 [==============================] - 3s 3ms/step - loss: 0.3294 - accuracy: 0.8776\n",
      "Epoch 6/20\n",
      "1125/1125 [==============================] - 3s 3ms/step - loss: 0.3143 - accuracy: 0.8856\n",
      "Epoch 7/20\n",
      "1125/1125 [==============================] - 4s 4ms/step - loss: 0.2987 - accuracy: 0.8893\n",
      "Epoch 8/20\n",
      "1125/1125 [==============================] - 3s 3ms/step - loss: 0.2921 - accuracy: 0.8920\n",
      "Epoch 9/20\n",
      "1125/1125 [==============================] - 3s 3ms/step - loss: 0.2813 - accuracy: 0.8964\n",
      "Epoch 10/20\n",
      "1125/1125 [==============================] - 3s 3ms/step - loss: 0.2764 - accuracy: 0.8985\n",
      "Epoch 11/20\n",
      "1125/1125 [==============================] - 3s 3ms/step - loss: 0.2692 - accuracy: 0.9020\n",
      "Epoch 12/20\n",
      "1125/1125 [==============================] - 3s 3ms/step - loss: 0.2634 - accuracy: 0.9026\n",
      "Epoch 13/20\n",
      "1125/1125 [==============================] - 3s 3ms/step - loss: 0.2589 - accuracy: 0.9051\n",
      "Epoch 14/20\n",
      "1125/1125 [==============================] - 3s 3ms/step - loss: 0.2546 - accuracy: 0.9064\n",
      "Epoch 15/20\n",
      "1125/1125 [==============================] - 3s 3ms/step - loss: 0.2503 - accuracy: 0.9082\n",
      "Epoch 16/20\n",
      "1125/1125 [==============================] - 3s 3ms/step - loss: 0.2424 - accuracy: 0.9098\n",
      "Epoch 17/20\n",
      "1125/1125 [==============================] - 3s 3ms/step - loss: 0.2413 - accuracy: 0.9106\n",
      "Epoch 18/20\n",
      "1125/1125 [==============================] - 3s 3ms/step - loss: 0.2371 - accuracy: 0.9113\n",
      "Epoch 19/20\n",
      "1125/1125 [==============================] - 3s 3ms/step - loss: 0.2374 - accuracy: 0.9133\n",
      "Epoch 20/20\n",
      "1125/1125 [==============================] - 3s 3ms/step - loss: 0.2327 - accuracy: 0.9156\n",
      "563/563 [==============================] - 1s 2ms/step\n",
      "[CV] END .kernel_size=(3, 3), optimizer__lr=0.001, strides=2; total time= 1.4min\n",
      "Epoch 1/20\n"
     ]
    },
    {
     "name": "stderr",
     "output_type": "stream",
     "text": [
      "/usr/local/lib/python3.7/dist-packages/keras/optimizers/optimizer_v2/adam.py:110: UserWarning: The `lr` argument is deprecated, use `learning_rate` instead.\n",
      "  super(Adam, self).__init__(name, **kwargs)\n"
     ]
    },
    {
     "name": "stdout",
     "output_type": "stream",
     "text": [
      "1125/1125 [==============================] - 4s 3ms/step - loss: 0.6184 - accuracy: 0.7755\n",
      "Epoch 2/20\n",
      "1125/1125 [==============================] - 3s 3ms/step - loss: 0.4375 - accuracy: 0.8427\n",
      "Epoch 3/20\n",
      "1125/1125 [==============================] - 3s 3ms/step - loss: 0.3925 - accuracy: 0.8590\n",
      "Epoch 4/20\n",
      "1125/1125 [==============================] - 3s 3ms/step - loss: 0.3645 - accuracy: 0.8700\n",
      "Epoch 5/20\n",
      "1125/1125 [==============================] - 3s 3ms/step - loss: 0.3428 - accuracy: 0.8756\n",
      "Epoch 6/20\n",
      "1125/1125 [==============================] - 3s 3ms/step - loss: 0.3246 - accuracy: 0.8831\n",
      "Epoch 7/20\n",
      "1125/1125 [==============================] - 3s 3ms/step - loss: 0.3100 - accuracy: 0.8869\n",
      "Epoch 8/20\n",
      "1125/1125 [==============================] - 3s 3ms/step - loss: 0.2973 - accuracy: 0.8908\n",
      "Epoch 9/20\n",
      "1125/1125 [==============================] - 3s 3ms/step - loss: 0.2901 - accuracy: 0.8944\n",
      "Epoch 10/20\n",
      "1125/1125 [==============================] - 3s 3ms/step - loss: 0.2831 - accuracy: 0.8966\n",
      "Epoch 11/20\n",
      "1125/1125 [==============================] - 3s 3ms/step - loss: 0.2738 - accuracy: 0.8997\n",
      "Epoch 12/20\n",
      "1125/1125 [==============================] - 3s 3ms/step - loss: 0.2656 - accuracy: 0.9028\n",
      "Epoch 13/20\n",
      "1125/1125 [==============================] - 3s 3ms/step - loss: 0.2641 - accuracy: 0.9018\n",
      "Epoch 14/20\n",
      "1125/1125 [==============================] - 3s 3ms/step - loss: 0.2536 - accuracy: 0.9074\n",
      "Epoch 15/20\n",
      "1125/1125 [==============================] - 3s 3ms/step - loss: 0.2520 - accuracy: 0.9078\n",
      "Epoch 16/20\n",
      "1125/1125 [==============================] - 3s 3ms/step - loss: 0.2477 - accuracy: 0.9094\n",
      "Epoch 17/20\n",
      "1125/1125 [==============================] - 3s 3ms/step - loss: 0.2451 - accuracy: 0.9105\n",
      "Epoch 18/20\n",
      "1125/1125 [==============================] - 3s 3ms/step - loss: 0.2451 - accuracy: 0.9104\n",
      "Epoch 19/20\n",
      "1125/1125 [==============================] - 3s 3ms/step - loss: 0.2389 - accuracy: 0.9120\n",
      "Epoch 20/20\n",
      "1125/1125 [==============================] - 3s 3ms/step - loss: 0.2322 - accuracy: 0.9142\n",
      "563/563 [==============================] - 1s 2ms/step\n",
      "[CV] END .kernel_size=(3, 3), optimizer__lr=0.001, strides=2; total time= 1.1min\n",
      "Epoch 1/20\n"
     ]
    },
    {
     "name": "stderr",
     "output_type": "stream",
     "text": [
      "/usr/local/lib/python3.7/dist-packages/keras/optimizers/optimizer_v2/adam.py:110: UserWarning: The `lr` argument is deprecated, use `learning_rate` instead.\n",
      "  super(Adam, self).__init__(name, **kwargs)\n"
     ]
    },
    {
     "name": "stdout",
     "output_type": "stream",
     "text": [
      "1125/1125 [==============================] - 4s 3ms/step - loss: 0.6233 - accuracy: 0.7728\n",
      "Epoch 2/20\n",
      "1125/1125 [==============================] - 3s 3ms/step - loss: 0.4332 - accuracy: 0.8435\n",
      "Epoch 3/20\n",
      "1125/1125 [==============================] - 3s 3ms/step - loss: 0.3850 - accuracy: 0.8610\n",
      "Epoch 4/20\n",
      "1125/1125 [==============================] - 3s 3ms/step - loss: 0.3568 - accuracy: 0.8714\n",
      "Epoch 5/20\n",
      "1125/1125 [==============================] - 3s 3ms/step - loss: 0.3341 - accuracy: 0.8802\n",
      "Epoch 6/20\n",
      "1125/1125 [==============================] - 3s 3ms/step - loss: 0.3182 - accuracy: 0.8842\n",
      "Epoch 7/20\n",
      "1125/1125 [==============================] - 3s 3ms/step - loss: 0.3038 - accuracy: 0.8903\n",
      "Epoch 8/20\n",
      "1125/1125 [==============================] - 3s 3ms/step - loss: 0.2942 - accuracy: 0.8921\n",
      "Epoch 9/20\n",
      "1125/1125 [==============================] - 3s 3ms/step - loss: 0.2866 - accuracy: 0.8944\n",
      "Epoch 10/20\n",
      "1125/1125 [==============================] - 3s 3ms/step - loss: 0.2785 - accuracy: 0.9003\n",
      "Epoch 11/20\n",
      "1125/1125 [==============================] - 3s 3ms/step - loss: 0.2694 - accuracy: 0.8991\n",
      "Epoch 12/20\n",
      "1125/1125 [==============================] - 3s 3ms/step - loss: 0.2603 - accuracy: 0.9049\n",
      "Epoch 13/20\n",
      "1125/1125 [==============================] - 3s 3ms/step - loss: 0.2565 - accuracy: 0.9068\n",
      "Epoch 14/20\n",
      "1125/1125 [==============================] - 3s 3ms/step - loss: 0.2476 - accuracy: 0.9084\n",
      "Epoch 15/20\n",
      "1125/1125 [==============================] - 4s 4ms/step - loss: 0.2444 - accuracy: 0.9096\n",
      "Epoch 16/20\n",
      "1125/1125 [==============================] - 3s 3ms/step - loss: 0.2449 - accuracy: 0.9101\n",
      "Epoch 17/20\n",
      "1125/1125 [==============================] - 3s 3ms/step - loss: 0.2398 - accuracy: 0.9100\n",
      "Epoch 18/20\n",
      "1125/1125 [==============================] - 3s 3ms/step - loss: 0.2372 - accuracy: 0.9123\n",
      "Epoch 19/20\n",
      "1125/1125 [==============================] - 3s 3ms/step - loss: 0.2338 - accuracy: 0.9130\n",
      "Epoch 20/20\n",
      "1125/1125 [==============================] - 3s 3ms/step - loss: 0.2238 - accuracy: 0.9169\n",
      "563/563 [==============================] - 1s 2ms/step\n",
      "[CV] END .kernel_size=(3, 3), optimizer__lr=0.001, strides=2; total time= 1.4min\n",
      "Epoch 1/20\n"
     ]
    },
    {
     "name": "stderr",
     "output_type": "stream",
     "text": [
      "/usr/local/lib/python3.7/dist-packages/keras/optimizers/optimizer_v2/adam.py:110: UserWarning: The `lr` argument is deprecated, use `learning_rate` instead.\n",
      "  super(Adam, self).__init__(name, **kwargs)\n"
     ]
    },
    {
     "name": "stdout",
     "output_type": "stream",
     "text": [
      "1125/1125 [==============================] - 4s 3ms/step - loss: 2.4226 - accuracy: 0.0983\n",
      "Epoch 2/20\n",
      "1125/1125 [==============================] - 3s 3ms/step - loss: 2.3144 - accuracy: 0.1022\n",
      "Epoch 3/20\n",
      "1125/1125 [==============================] - 3s 3ms/step - loss: 2.3155 - accuracy: 0.1000\n",
      "Epoch 4/20\n",
      "1125/1125 [==============================] - 3s 3ms/step - loss: 2.3166 - accuracy: 0.0979\n",
      "Epoch 5/20\n",
      "1125/1125 [==============================] - 3s 3ms/step - loss: 2.3156 - accuracy: 0.1002\n",
      "Epoch 6/20\n",
      "1125/1125 [==============================] - 4s 3ms/step - loss: 2.3156 - accuracy: 0.0980\n",
      "Epoch 7/20\n",
      "1125/1125 [==============================] - 3s 3ms/step - loss: 2.3146 - accuracy: 0.1002\n",
      "Epoch 8/20\n",
      "1125/1125 [==============================] - 3s 3ms/step - loss: 2.3151 - accuracy: 0.0981\n",
      "Epoch 9/20\n",
      "1125/1125 [==============================] - 3s 3ms/step - loss: 2.3170 - accuracy: 0.0981\n",
      "Epoch 10/20\n",
      "1125/1125 [==============================] - 3s 3ms/step - loss: 2.3153 - accuracy: 0.1004\n",
      "Epoch 11/20\n",
      "1125/1125 [==============================] - 3s 3ms/step - loss: 2.3140 - accuracy: 0.1005\n",
      "Epoch 12/20\n",
      "1125/1125 [==============================] - 3s 3ms/step - loss: 2.3150 - accuracy: 0.1004\n",
      "Epoch 13/20\n",
      "1125/1125 [==============================] - 3s 3ms/step - loss: 2.3164 - accuracy: 0.1028\n",
      "Epoch 14/20\n",
      "1125/1125 [==============================] - 3s 3ms/step - loss: 2.3150 - accuracy: 0.0971\n",
      "Epoch 15/20\n",
      "1125/1125 [==============================] - 3s 3ms/step - loss: 2.3161 - accuracy: 0.0999\n",
      "Epoch 16/20\n",
      "1125/1125 [==============================] - 3s 3ms/step - loss: 2.3154 - accuracy: 0.0983\n",
      "Epoch 17/20\n",
      "1125/1125 [==============================] - 3s 3ms/step - loss: 2.3144 - accuracy: 0.0980\n",
      "Epoch 18/20\n",
      "1125/1125 [==============================] - 3s 3ms/step - loss: 2.3151 - accuracy: 0.1000\n",
      "Epoch 19/20\n",
      "1125/1125 [==============================] - 3s 3ms/step - loss: 2.3149 - accuracy: 0.1013\n",
      "Epoch 20/20\n",
      "1125/1125 [==============================] - 3s 3ms/step - loss: 2.3143 - accuracy: 0.0998\n",
      "563/563 [==============================] - 1s 2ms/step\n",
      "[CV] END ...kernel_size=(5, 5), optimizer__lr=0.1, strides=1; total time= 1.2min\n",
      "Epoch 1/20\n"
     ]
    },
    {
     "name": "stderr",
     "output_type": "stream",
     "text": [
      "/usr/local/lib/python3.7/dist-packages/keras/optimizers/optimizer_v2/adam.py:110: UserWarning: The `lr` argument is deprecated, use `learning_rate` instead.\n",
      "  super(Adam, self).__init__(name, **kwargs)\n"
     ]
    },
    {
     "name": "stdout",
     "output_type": "stream",
     "text": [
      "1125/1125 [==============================] - 4s 3ms/step - loss: 2.4778 - accuracy: 0.0986\n",
      "Epoch 2/20\n",
      "1125/1125 [==============================] - 3s 3ms/step - loss: 2.3205 - accuracy: 0.0992\n",
      "Epoch 3/20\n",
      "1125/1125 [==============================] - 3s 3ms/step - loss: 2.3165 - accuracy: 0.0989\n",
      "Epoch 4/20\n",
      "1125/1125 [==============================] - 3s 3ms/step - loss: 2.3160 - accuracy: 0.0989\n",
      "Epoch 5/20\n",
      "1125/1125 [==============================] - 3s 3ms/step - loss: 2.3155 - accuracy: 0.0995\n",
      "Epoch 6/20\n",
      "1125/1125 [==============================] - 3s 3ms/step - loss: 2.3155 - accuracy: 0.0981\n",
      "Epoch 7/20\n",
      "1125/1125 [==============================] - 3s 3ms/step - loss: 2.3148 - accuracy: 0.1012\n",
      "Epoch 8/20\n",
      "1125/1125 [==============================] - 3s 3ms/step - loss: 2.3154 - accuracy: 0.1022\n",
      "Epoch 9/20\n",
      "1125/1125 [==============================] - 3s 3ms/step - loss: 2.3158 - accuracy: 0.0968\n",
      "Epoch 10/20\n",
      "1125/1125 [==============================] - 3s 3ms/step - loss: 2.3156 - accuracy: 0.1022\n",
      "Epoch 11/20\n",
      "1125/1125 [==============================] - 3s 3ms/step - loss: 2.3144 - accuracy: 0.0975\n",
      "Epoch 12/20\n",
      "1125/1125 [==============================] - 3s 3ms/step - loss: 2.3148 - accuracy: 0.0990\n",
      "Epoch 13/20\n",
      "1125/1125 [==============================] - 3s 3ms/step - loss: 2.3154 - accuracy: 0.1016\n",
      "Epoch 14/20\n",
      "1125/1125 [==============================] - 3s 3ms/step - loss: 2.3153 - accuracy: 0.1021\n",
      "Epoch 15/20\n",
      "1125/1125 [==============================] - 3s 3ms/step - loss: 2.3157 - accuracy: 0.1030\n",
      "Epoch 16/20\n",
      "1125/1125 [==============================] - 3s 3ms/step - loss: 2.3155 - accuracy: 0.1013\n",
      "Epoch 17/20\n",
      "1125/1125 [==============================] - 3s 3ms/step - loss: 2.3149 - accuracy: 0.0988\n",
      "Epoch 18/20\n",
      "1125/1125 [==============================] - 3s 3ms/step - loss: 2.3150 - accuracy: 0.0989\n",
      "Epoch 19/20\n",
      "1125/1125 [==============================] - 3s 3ms/step - loss: 2.3159 - accuracy: 0.1004\n",
      "Epoch 20/20\n",
      "1125/1125 [==============================] - 3s 3ms/step - loss: 2.3159 - accuracy: 0.0978\n",
      "563/563 [==============================] - 1s 2ms/step\n",
      "[CV] END ...kernel_size=(5, 5), optimizer__lr=0.1, strides=1; total time= 1.1min\n",
      "Epoch 1/20\n"
     ]
    },
    {
     "name": "stderr",
     "output_type": "stream",
     "text": [
      "/usr/local/lib/python3.7/dist-packages/keras/optimizers/optimizer_v2/adam.py:110: UserWarning: The `lr` argument is deprecated, use `learning_rate` instead.\n",
      "  super(Adam, self).__init__(name, **kwargs)\n"
     ]
    },
    {
     "name": "stdout",
     "output_type": "stream",
     "text": [
      "1125/1125 [==============================] - 4s 3ms/step - loss: 1.5377 - accuracy: 0.5101\n",
      "Epoch 2/20\n",
      "1125/1125 [==============================] - 3s 3ms/step - loss: 1.2631 - accuracy: 0.5243\n",
      "Epoch 3/20\n",
      "1125/1125 [==============================] - 3s 3ms/step - loss: 1.2621 - accuracy: 0.5246\n",
      "Epoch 4/20\n",
      "1125/1125 [==============================] - 4s 3ms/step - loss: 1.2849 - accuracy: 0.5148\n",
      "Epoch 5/20\n",
      "1125/1125 [==============================] - 3s 3ms/step - loss: 1.3152 - accuracy: 0.5042\n",
      "Epoch 6/20\n",
      "1125/1125 [==============================] - 3s 3ms/step - loss: 1.3048 - accuracy: 0.5073\n",
      "Epoch 7/20\n",
      "1125/1125 [==============================] - 3s 3ms/step - loss: 1.2796 - accuracy: 0.5132\n",
      "Epoch 8/20\n",
      "1125/1125 [==============================] - 3s 3ms/step - loss: 1.3249 - accuracy: 0.5025\n",
      "Epoch 9/20\n",
      "1125/1125 [==============================] - 3s 3ms/step - loss: 1.2871 - accuracy: 0.5131\n",
      "Epoch 10/20\n",
      "1125/1125 [==============================] - 3s 3ms/step - loss: 1.2654 - accuracy: 0.5198\n",
      "Epoch 11/20\n",
      "1125/1125 [==============================] - 3s 3ms/step - loss: 1.2749 - accuracy: 0.5143\n",
      "Epoch 12/20\n",
      "1125/1125 [==============================] - 3s 3ms/step - loss: 1.3459 - accuracy: 0.4934\n",
      "Epoch 13/20\n",
      "1125/1125 [==============================] - 3s 3ms/step - loss: 1.3027 - accuracy: 0.5040\n",
      "Epoch 14/20\n",
      "1125/1125 [==============================] - 3s 3ms/step - loss: 1.3120 - accuracy: 0.5064\n",
      "Epoch 15/20\n",
      "1125/1125 [==============================] - 3s 3ms/step - loss: 1.2677 - accuracy: 0.5160\n",
      "Epoch 16/20\n",
      "1125/1125 [==============================] - 3s 3ms/step - loss: 1.2921 - accuracy: 0.5072\n",
      "Epoch 17/20\n",
      "1125/1125 [==============================] - 3s 3ms/step - loss: 2.0936 - accuracy: 0.1935\n",
      "Epoch 18/20\n",
      "1125/1125 [==============================] - 3s 3ms/step - loss: 2.3155 - accuracy: 0.0994\n",
      "Epoch 19/20\n",
      "1125/1125 [==============================] - 3s 3ms/step - loss: 2.3159 - accuracy: 0.1011\n",
      "Epoch 20/20\n",
      "1125/1125 [==============================] - 3s 3ms/step - loss: 2.3160 - accuracy: 0.1008\n",
      "563/563 [==============================] - 1s 2ms/step\n",
      "[CV] END ...kernel_size=(5, 5), optimizer__lr=0.1, strides=1; total time= 1.4min\n",
      "Epoch 1/20\n"
     ]
    },
    {
     "name": "stderr",
     "output_type": "stream",
     "text": [
      "/usr/local/lib/python3.7/dist-packages/keras/optimizers/optimizer_v2/adam.py:110: UserWarning: The `lr` argument is deprecated, use `learning_rate` instead.\n",
      "  super(Adam, self).__init__(name, **kwargs)\n"
     ]
    },
    {
     "name": "stdout",
     "output_type": "stream",
     "text": [
      "1125/1125 [==============================] - 4s 3ms/step - loss: 1.3561 - accuracy: 0.5092\n",
      "Epoch 2/20\n",
      "1125/1125 [==============================] - 3s 3ms/step - loss: 1.2529 - accuracy: 0.5320\n",
      "Epoch 3/20\n",
      "1125/1125 [==============================] - 3s 3ms/step - loss: 1.2438 - accuracy: 0.5410\n",
      "Epoch 4/20\n",
      "1125/1125 [==============================] - 3s 3ms/step - loss: 1.2414 - accuracy: 0.5394\n",
      "Epoch 5/20\n",
      "1125/1125 [==============================] - 3s 3ms/step - loss: 2.2262 - accuracy: 0.1416\n",
      "Epoch 6/20\n",
      "1125/1125 [==============================] - 3s 3ms/step - loss: 2.3159 - accuracy: 0.0980\n",
      "Epoch 7/20\n",
      "1125/1125 [==============================] - 3s 3ms/step - loss: 2.3147 - accuracy: 0.1002\n",
      "Epoch 8/20\n",
      "1125/1125 [==============================] - 3s 3ms/step - loss: 2.3151 - accuracy: 0.0978\n",
      "Epoch 9/20\n",
      "1125/1125 [==============================] - 3s 3ms/step - loss: 2.3170 - accuracy: 0.0980\n",
      "Epoch 10/20\n",
      "1125/1125 [==============================] - 3s 3ms/step - loss: 2.3153 - accuracy: 0.1004\n",
      "Epoch 11/20\n",
      "1125/1125 [==============================] - 3s 3ms/step - loss: 2.3140 - accuracy: 0.1005\n",
      "Epoch 12/20\n",
      "1125/1125 [==============================] - 3s 3ms/step - loss: 2.3150 - accuracy: 0.1004\n",
      "Epoch 13/20\n",
      "1125/1125 [==============================] - 3s 3ms/step - loss: 2.3164 - accuracy: 0.1028\n",
      "Epoch 14/20\n",
      "1125/1125 [==============================] - 3s 3ms/step - loss: 2.3150 - accuracy: 0.0971\n",
      "Epoch 15/20\n",
      "1125/1125 [==============================] - 3s 3ms/step - loss: 2.3161 - accuracy: 0.0999\n",
      "Epoch 16/20\n",
      "1125/1125 [==============================] - 3s 3ms/step - loss: 2.3154 - accuracy: 0.0983\n",
      "Epoch 17/20\n",
      "1125/1125 [==============================] - 3s 3ms/step - loss: 2.3144 - accuracy: 0.0980\n",
      "Epoch 18/20\n",
      "1125/1125 [==============================] - 3s 3ms/step - loss: 2.3151 - accuracy: 0.1000\n",
      "Epoch 19/20\n",
      "1125/1125 [==============================] - 3s 3ms/step - loss: 2.3149 - accuracy: 0.1013\n",
      "Epoch 20/20\n",
      "1125/1125 [==============================] - 3s 3ms/step - loss: 2.3143 - accuracy: 0.0998\n",
      "563/563 [==============================] - 1s 2ms/step\n",
      "[CV] END ...kernel_size=(5, 5), optimizer__lr=0.1, strides=2; total time= 1.4min\n",
      "Epoch 1/20\n"
     ]
    },
    {
     "name": "stderr",
     "output_type": "stream",
     "text": [
      "/usr/local/lib/python3.7/dist-packages/keras/optimizers/optimizer_v2/adam.py:110: UserWarning: The `lr` argument is deprecated, use `learning_rate` instead.\n",
      "  super(Adam, self).__init__(name, **kwargs)\n"
     ]
    },
    {
     "name": "stdout",
     "output_type": "stream",
     "text": [
      "1125/1125 [==============================] - 4s 3ms/step - loss: 1.4594 - accuracy: 0.5232\n",
      "Epoch 2/20\n",
      "1125/1125 [==============================] - 3s 3ms/step - loss: 1.2929 - accuracy: 0.5297\n",
      "Epoch 3/20\n",
      "1125/1125 [==============================] - 3s 3ms/step - loss: 1.2883 - accuracy: 0.5350\n",
      "Epoch 4/20\n",
      "1125/1125 [==============================] - 3s 3ms/step - loss: 1.3763 - accuracy: 0.5062\n",
      "Epoch 5/20\n",
      "1125/1125 [==============================] - 3s 3ms/step - loss: 2.3161 - accuracy: 0.0997\n",
      "Epoch 6/20\n",
      "1125/1125 [==============================] - 3s 3ms/step - loss: 2.3157 - accuracy: 0.0979\n",
      "Epoch 7/20\n",
      "1125/1125 [==============================] - 4s 3ms/step - loss: 2.3149 - accuracy: 0.1012\n",
      "Epoch 8/20\n",
      "1125/1125 [==============================] - 4s 3ms/step - loss: 2.3154 - accuracy: 0.1023\n",
      "Epoch 9/20\n",
      "1125/1125 [==============================] - 3s 3ms/step - loss: 2.3158 - accuracy: 0.0968\n",
      "Epoch 10/20\n",
      "1125/1125 [==============================] - 3s 3ms/step - loss: 2.3156 - accuracy: 0.1021\n",
      "Epoch 11/20\n",
      "1125/1125 [==============================] - 3s 3ms/step - loss: 2.3144 - accuracy: 0.0975\n",
      "Epoch 12/20\n",
      "1125/1125 [==============================] - 3s 3ms/step - loss: 2.3148 - accuracy: 0.0990\n",
      "Epoch 13/20\n",
      "1125/1125 [==============================] - 3s 3ms/step - loss: 2.3154 - accuracy: 0.1016\n",
      "Epoch 14/20\n",
      "1125/1125 [==============================] - 3s 3ms/step - loss: 2.3153 - accuracy: 0.1021\n",
      "Epoch 15/20\n",
      "1125/1125 [==============================] - 3s 3ms/step - loss: 2.3157 - accuracy: 0.1030\n",
      "Epoch 16/20\n",
      "1125/1125 [==============================] - 3s 3ms/step - loss: 2.3155 - accuracy: 0.1013\n",
      "Epoch 17/20\n",
      "1125/1125 [==============================] - 3s 3ms/step - loss: 2.3149 - accuracy: 0.0988\n",
      "Epoch 18/20\n",
      "1125/1125 [==============================] - 3s 3ms/step - loss: 2.3150 - accuracy: 0.0989\n",
      "Epoch 19/20\n",
      "1125/1125 [==============================] - 3s 3ms/step - loss: 2.3159 - accuracy: 0.1004\n",
      "Epoch 20/20\n",
      "1125/1125 [==============================] - 3s 3ms/step - loss: 2.3159 - accuracy: 0.0978\n",
      "563/563 [==============================] - 1s 2ms/step\n",
      "[CV] END ...kernel_size=(5, 5), optimizer__lr=0.1, strides=2; total time= 1.2min\n",
      "Epoch 1/20\n"
     ]
    },
    {
     "name": "stderr",
     "output_type": "stream",
     "text": [
      "/usr/local/lib/python3.7/dist-packages/keras/optimizers/optimizer_v2/adam.py:110: UserWarning: The `lr` argument is deprecated, use `learning_rate` instead.\n",
      "  super(Adam, self).__init__(name, **kwargs)\n"
     ]
    },
    {
     "name": "stdout",
     "output_type": "stream",
     "text": [
      "1125/1125 [==============================] - 4s 3ms/step - loss: 2.5252 - accuracy: 0.0996\n",
      "Epoch 2/20\n",
      "1125/1125 [==============================] - 3s 3ms/step - loss: 2.3153 - accuracy: 0.1006\n",
      "Epoch 3/20\n",
      "1125/1125 [==============================] - 3s 3ms/step - loss: 2.3159 - accuracy: 0.0982\n",
      "Epoch 4/20\n",
      "1125/1125 [==============================] - 3s 3ms/step - loss: 2.3159 - accuracy: 0.0988\n",
      "Epoch 5/20\n",
      "1125/1125 [==============================] - 3s 3ms/step - loss: 2.3149 - accuracy: 0.1015\n",
      "Epoch 6/20\n",
      "1125/1125 [==============================] - 3s 3ms/step - loss: 2.3146 - accuracy: 0.0990\n",
      "Epoch 7/20\n",
      "1125/1125 [==============================] - 3s 3ms/step - loss: 2.3153 - accuracy: 0.0996\n",
      "Epoch 8/20\n",
      "1125/1125 [==============================] - 3s 3ms/step - loss: 2.3153 - accuracy: 0.0978\n",
      "Epoch 9/20\n",
      "1125/1125 [==============================] - 3s 3ms/step - loss: 2.3157 - accuracy: 0.0996\n",
      "Epoch 10/20\n",
      "1125/1125 [==============================] - 3s 3ms/step - loss: 2.3158 - accuracy: 0.1014\n",
      "Epoch 11/20\n",
      "1125/1125 [==============================] - 3s 3ms/step - loss: 2.3149 - accuracy: 0.0999\n",
      "Epoch 12/20\n",
      "1125/1125 [==============================] - 3s 3ms/step - loss: 2.3154 - accuracy: 0.1020\n",
      "Epoch 13/20\n",
      "1125/1125 [==============================] - 3s 3ms/step - loss: 2.3158 - accuracy: 0.1023\n",
      "Epoch 14/20\n",
      "1125/1125 [==============================] - 3s 3ms/step - loss: 2.3168 - accuracy: 0.0983\n",
      "Epoch 15/20\n",
      "1125/1125 [==============================] - 3s 3ms/step - loss: 2.3147 - accuracy: 0.0998\n",
      "Epoch 16/20\n",
      "1125/1125 [==============================] - 3s 3ms/step - loss: 2.3151 - accuracy: 0.1008\n",
      "Epoch 17/20\n",
      "1125/1125 [==============================] - 3s 3ms/step - loss: 2.3149 - accuracy: 0.0989\n",
      "Epoch 18/20\n",
      "1125/1125 [==============================] - 3s 3ms/step - loss: 2.3151 - accuracy: 0.0995\n",
      "Epoch 19/20\n",
      "1125/1125 [==============================] - 3s 3ms/step - loss: 2.3158 - accuracy: 0.1006\n",
      "Epoch 20/20\n",
      "1125/1125 [==============================] - 3s 3ms/step - loss: 2.3160 - accuracy: 0.1009\n",
      "563/563 [==============================] - 1s 2ms/step\n",
      "[CV] END ...kernel_size=(5, 5), optimizer__lr=0.1, strides=2; total time= 1.4min\n",
      "Epoch 1/20\n"
     ]
    },
    {
     "name": "stderr",
     "output_type": "stream",
     "text": [
      "/usr/local/lib/python3.7/dist-packages/keras/optimizers/optimizer_v2/adam.py:110: UserWarning: The `lr` argument is deprecated, use `learning_rate` instead.\n",
      "  super(Adam, self).__init__(name, **kwargs)\n"
     ]
    },
    {
     "name": "stdout",
     "output_type": "stream",
     "text": [
      "1125/1125 [==============================] - 4s 3ms/step - loss: 0.5869 - accuracy: 0.7844\n",
      "Epoch 2/20\n",
      "1125/1125 [==============================] - 3s 3ms/step - loss: 0.4833 - accuracy: 0.8255\n",
      "Epoch 3/20\n",
      "1125/1125 [==============================] - 3s 3ms/step - loss: 0.4651 - accuracy: 0.8307\n",
      "Epoch 4/20\n",
      "1125/1125 [==============================] - 3s 3ms/step - loss: 0.4542 - accuracy: 0.8332\n",
      "Epoch 5/20\n",
      "1125/1125 [==============================] - 3s 3ms/step - loss: 0.4448 - accuracy: 0.8377\n",
      "Epoch 6/20\n",
      "1125/1125 [==============================] - 3s 3ms/step - loss: 0.4416 - accuracy: 0.8396\n",
      "Epoch 7/20\n",
      "1125/1125 [==============================] - 3s 3ms/step - loss: 0.4361 - accuracy: 0.8400\n",
      "Epoch 8/20\n",
      "1125/1125 [==============================] - 3s 3ms/step - loss: 0.4281 - accuracy: 0.8429\n",
      "Epoch 9/20\n",
      "1125/1125 [==============================] - 3s 3ms/step - loss: 0.4406 - accuracy: 0.8386\n",
      "Epoch 10/20\n",
      "1125/1125 [==============================] - 3s 3ms/step - loss: 0.4262 - accuracy: 0.8434\n",
      "Epoch 11/20\n",
      "1125/1125 [==============================] - 3s 3ms/step - loss: 0.4294 - accuracy: 0.8402\n",
      "Epoch 12/20\n",
      "1125/1125 [==============================] - 3s 3ms/step - loss: 0.4313 - accuracy: 0.8398\n",
      "Epoch 13/20\n",
      "1125/1125 [==============================] - 3s 3ms/step - loss: 0.4299 - accuracy: 0.8417\n",
      "Epoch 14/20\n",
      "1125/1125 [==============================] - 3s 3ms/step - loss: 0.4270 - accuracy: 0.8420\n",
      "Epoch 15/20\n",
      "1125/1125 [==============================] - 3s 3ms/step - loss: 0.4294 - accuracy: 0.8414\n",
      "Epoch 16/20\n",
      "1125/1125 [==============================] - 3s 3ms/step - loss: 0.4187 - accuracy: 0.8457\n",
      "Epoch 17/20\n",
      "1125/1125 [==============================] - 4s 3ms/step - loss: 0.4244 - accuracy: 0.8453\n",
      "Epoch 18/20\n",
      "1125/1125 [==============================] - 3s 3ms/step - loss: 0.4209 - accuracy: 0.8439\n",
      "Epoch 19/20\n",
      "1125/1125 [==============================] - 3s 3ms/step - loss: 0.4244 - accuracy: 0.8418\n",
      "Epoch 20/20\n",
      "1125/1125 [==============================] - 3s 3ms/step - loss: 0.4237 - accuracy: 0.8427\n",
      "563/563 [==============================] - 1s 2ms/step\n",
      "[CV] END ..kernel_size=(5, 5), optimizer__lr=0.01, strides=1; total time= 1.2min\n",
      "Epoch 1/20\n"
     ]
    },
    {
     "name": "stderr",
     "output_type": "stream",
     "text": [
      "/usr/local/lib/python3.7/dist-packages/keras/optimizers/optimizer_v2/adam.py:110: UserWarning: The `lr` argument is deprecated, use `learning_rate` instead.\n",
      "  super(Adam, self).__init__(name, **kwargs)\n"
     ]
    },
    {
     "name": "stdout",
     "output_type": "stream",
     "text": [
      "1125/1125 [==============================] - 4s 3ms/step - loss: 0.5665 - accuracy: 0.7956\n",
      "Epoch 2/20\n",
      "1125/1125 [==============================] - 3s 3ms/step - loss: 0.4581 - accuracy: 0.8330\n",
      "Epoch 3/20\n",
      "1125/1125 [==============================] - 3s 3ms/step - loss: 0.4446 - accuracy: 0.8391\n",
      "Epoch 4/20\n",
      "1125/1125 [==============================] - 3s 3ms/step - loss: 0.4302 - accuracy: 0.8439\n",
      "Epoch 5/20\n",
      "1125/1125 [==============================] - 3s 3ms/step - loss: 0.4238 - accuracy: 0.8456\n",
      "Epoch 6/20\n",
      "1125/1125 [==============================] - 3s 3ms/step - loss: 0.4217 - accuracy: 0.8463\n",
      "Epoch 7/20\n",
      "1125/1125 [==============================] - 3s 3ms/step - loss: 0.4191 - accuracy: 0.8461\n",
      "Epoch 8/20\n",
      "1125/1125 [==============================] - 3s 3ms/step - loss: 0.4153 - accuracy: 0.8497\n",
      "Epoch 9/20\n",
      "1125/1125 [==============================] - 3s 3ms/step - loss: 0.4206 - accuracy: 0.8472\n",
      "Epoch 10/20\n",
      "1125/1125 [==============================] - 3s 3ms/step - loss: 0.4161 - accuracy: 0.8453\n",
      "Epoch 11/20\n",
      "1125/1125 [==============================] - 3s 3ms/step - loss: 0.4205 - accuracy: 0.8466\n",
      "Epoch 12/20\n",
      "1125/1125 [==============================] - 3s 3ms/step - loss: 0.4126 - accuracy: 0.8489\n",
      "Epoch 13/20\n",
      "1125/1125 [==============================] - 3s 3ms/step - loss: 0.4166 - accuracy: 0.8467\n",
      "Epoch 14/20\n",
      "1125/1125 [==============================] - 3s 3ms/step - loss: 0.4119 - accuracy: 0.8489\n",
      "Epoch 15/20\n",
      "1125/1125 [==============================] - 3s 3ms/step - loss: 0.4246 - accuracy: 0.8424\n",
      "Epoch 16/20\n",
      "1125/1125 [==============================] - 3s 3ms/step - loss: 0.4225 - accuracy: 0.8431\n",
      "Epoch 17/20\n",
      "1125/1125 [==============================] - 3s 3ms/step - loss: 0.4279 - accuracy: 0.8436\n",
      "Epoch 18/20\n",
      "1125/1125 [==============================] - 3s 3ms/step - loss: 0.4130 - accuracy: 0.8469\n",
      "Epoch 19/20\n",
      "1125/1125 [==============================] - 3s 3ms/step - loss: 0.4190 - accuracy: 0.8444\n",
      "Epoch 20/20\n",
      "1125/1125 [==============================] - 3s 3ms/step - loss: 0.4128 - accuracy: 0.8470\n",
      "563/563 [==============================] - 1s 2ms/step\n",
      "[CV] END ..kernel_size=(5, 5), optimizer__lr=0.01, strides=1; total time= 1.1min\n",
      "Epoch 1/20\n"
     ]
    },
    {
     "name": "stderr",
     "output_type": "stream",
     "text": [
      "/usr/local/lib/python3.7/dist-packages/keras/optimizers/optimizer_v2/adam.py:110: UserWarning: The `lr` argument is deprecated, use `learning_rate` instead.\n",
      "  super(Adam, self).__init__(name, **kwargs)\n"
     ]
    },
    {
     "name": "stdout",
     "output_type": "stream",
     "text": [
      "1125/1125 [==============================] - 4s 3ms/step - loss: 0.5742 - accuracy: 0.7922\n",
      "Epoch 2/20\n",
      "1125/1125 [==============================] - 3s 3ms/step - loss: 0.4713 - accuracy: 0.8296\n",
      "Epoch 3/20\n",
      "1125/1125 [==============================] - 3s 3ms/step - loss: 0.4549 - accuracy: 0.8340\n",
      "Epoch 4/20\n",
      "1125/1125 [==============================] - 3s 3ms/step - loss: 0.4466 - accuracy: 0.8377\n",
      "Epoch 5/20\n",
      "1125/1125 [==============================] - 3s 3ms/step - loss: 0.4338 - accuracy: 0.8424\n",
      "Epoch 6/20\n",
      "1125/1125 [==============================] - 3s 3ms/step - loss: 0.4324 - accuracy: 0.8408\n",
      "Epoch 7/20\n",
      "1125/1125 [==============================] - 3s 3ms/step - loss: 0.4294 - accuracy: 0.8416\n",
      "Epoch 8/20\n",
      "1125/1125 [==============================] - 3s 3ms/step - loss: 0.4263 - accuracy: 0.8449\n",
      "Epoch 9/20\n",
      "1125/1125 [==============================] - 3s 3ms/step - loss: 0.4266 - accuracy: 0.8431\n",
      "Epoch 10/20\n",
      "1125/1125 [==============================] - 3s 3ms/step - loss: 0.4251 - accuracy: 0.8433\n",
      "Epoch 11/20\n",
      "1125/1125 [==============================] - 3s 3ms/step - loss: 0.4255 - accuracy: 0.8424\n",
      "Epoch 12/20\n",
      "1125/1125 [==============================] - 3s 3ms/step - loss: 0.4283 - accuracy: 0.8432\n",
      "Epoch 13/20\n",
      "1125/1125 [==============================] - 4s 3ms/step - loss: 0.4263 - accuracy: 0.8430\n",
      "Epoch 14/20\n",
      "1125/1125 [==============================] - 3s 3ms/step - loss: 0.4263 - accuracy: 0.8418\n",
      "Epoch 15/20\n",
      "1125/1125 [==============================] - 3s 3ms/step - loss: 0.4272 - accuracy: 0.8441\n",
      "Epoch 16/20\n",
      "1125/1125 [==============================] - 3s 3ms/step - loss: 0.4221 - accuracy: 0.8453\n",
      "Epoch 17/20\n",
      "1125/1125 [==============================] - 3s 3ms/step - loss: 0.4290 - accuracy: 0.8411\n",
      "Epoch 18/20\n",
      "1125/1125 [==============================] - 3s 3ms/step - loss: 0.4201 - accuracy: 0.8431\n",
      "Epoch 19/20\n",
      "1125/1125 [==============================] - 3s 3ms/step - loss: 0.4206 - accuracy: 0.8439\n",
      "Epoch 20/20\n",
      "1125/1125 [==============================] - 3s 3ms/step - loss: 0.4225 - accuracy: 0.8444\n",
      "563/563 [==============================] - 1s 2ms/step\n",
      "[CV] END ..kernel_size=(5, 5), optimizer__lr=0.01, strides=1; total time= 1.2min\n",
      "Epoch 1/20\n"
     ]
    },
    {
     "name": "stderr",
     "output_type": "stream",
     "text": [
      "/usr/local/lib/python3.7/dist-packages/keras/optimizers/optimizer_v2/adam.py:110: UserWarning: The `lr` argument is deprecated, use `learning_rate` instead.\n",
      "  super(Adam, self).__init__(name, **kwargs)\n"
     ]
    },
    {
     "name": "stdout",
     "output_type": "stream",
     "text": [
      "1125/1125 [==============================] - 4s 3ms/step - loss: 0.5598 - accuracy: 0.7961\n",
      "Epoch 2/20\n",
      "1125/1125 [==============================] - 3s 3ms/step - loss: 0.4626 - accuracy: 0.8302\n",
      "Epoch 3/20\n",
      "1125/1125 [==============================] - 3s 3ms/step - loss: 0.4487 - accuracy: 0.8355\n",
      "Epoch 4/20\n",
      "1125/1125 [==============================] - 3s 3ms/step - loss: 0.4432 - accuracy: 0.8369\n",
      "Epoch 5/20\n",
      "1125/1125 [==============================] - 3s 3ms/step - loss: 0.4363 - accuracy: 0.8368\n",
      "Epoch 6/20\n",
      "1125/1125 [==============================] - 3s 3ms/step - loss: 0.4318 - accuracy: 0.8407\n",
      "Epoch 7/20\n",
      "1125/1125 [==============================] - 3s 3ms/step - loss: 0.4219 - accuracy: 0.8419\n",
      "Epoch 8/20\n",
      "1125/1125 [==============================] - 3s 3ms/step - loss: 0.4214 - accuracy: 0.8441\n",
      "Epoch 9/20\n",
      "1125/1125 [==============================] - 4s 3ms/step - loss: 0.4205 - accuracy: 0.8441\n",
      "Epoch 10/20\n",
      "1125/1125 [==============================] - 4s 3ms/step - loss: 0.4164 - accuracy: 0.8443\n",
      "Epoch 11/20\n",
      "1125/1125 [==============================] - 3s 3ms/step - loss: 0.4172 - accuracy: 0.8438\n",
      "Epoch 12/20\n",
      "1125/1125 [==============================] - 3s 3ms/step - loss: 0.4169 - accuracy: 0.8451\n",
      "Epoch 13/20\n",
      "1125/1125 [==============================] - 3s 3ms/step - loss: 0.4162 - accuracy: 0.8448\n",
      "Epoch 14/20\n",
      "1125/1125 [==============================] - 3s 3ms/step - loss: 0.4072 - accuracy: 0.8478\n",
      "Epoch 15/20\n",
      "1125/1125 [==============================] - 3s 3ms/step - loss: 0.4144 - accuracy: 0.8448\n",
      "Epoch 16/20\n",
      "1125/1125 [==============================] - 3s 3ms/step - loss: 0.4108 - accuracy: 0.8471\n",
      "Epoch 17/20\n",
      "1125/1125 [==============================] - 3s 3ms/step - loss: 0.4105 - accuracy: 0.8485\n",
      "Epoch 18/20\n",
      "1125/1125 [==============================] - 3s 3ms/step - loss: 0.4090 - accuracy: 0.8492\n",
      "Epoch 19/20\n",
      "1125/1125 [==============================] - 3s 3ms/step - loss: 0.4215 - accuracy: 0.8445\n",
      "Epoch 20/20\n",
      "1125/1125 [==============================] - 3s 3ms/step - loss: 0.4254 - accuracy: 0.8411\n",
      "563/563 [==============================] - 1s 2ms/step\n",
      "[CV] END ..kernel_size=(5, 5), optimizer__lr=0.01, strides=2; total time= 1.2min\n",
      "Epoch 1/20\n"
     ]
    },
    {
     "name": "stderr",
     "output_type": "stream",
     "text": [
      "/usr/local/lib/python3.7/dist-packages/keras/optimizers/optimizer_v2/adam.py:110: UserWarning: The `lr` argument is deprecated, use `learning_rate` instead.\n",
      "  super(Adam, self).__init__(name, **kwargs)\n"
     ]
    },
    {
     "name": "stdout",
     "output_type": "stream",
     "text": [
      "1125/1125 [==============================] - 4s 3ms/step - loss: 0.5649 - accuracy: 0.7961\n",
      "Epoch 2/20\n",
      "1125/1125 [==============================] - 3s 3ms/step - loss: 0.4640 - accuracy: 0.8316\n",
      "Epoch 3/20\n",
      "1125/1125 [==============================] - 3s 3ms/step - loss: 0.4451 - accuracy: 0.8371\n",
      "Epoch 4/20\n",
      "1125/1125 [==============================] - 3s 3ms/step - loss: 0.4416 - accuracy: 0.8389\n",
      "Epoch 5/20\n",
      "1125/1125 [==============================] - 3s 3ms/step - loss: 0.4432 - accuracy: 0.8372\n",
      "Epoch 6/20\n",
      "1125/1125 [==============================] - 3s 3ms/step - loss: 0.4315 - accuracy: 0.8419\n",
      "Epoch 7/20\n",
      "1125/1125 [==============================] - 3s 3ms/step - loss: 0.4295 - accuracy: 0.8425\n",
      "Epoch 8/20\n",
      "1125/1125 [==============================] - 3s 3ms/step - loss: 0.4319 - accuracy: 0.8413\n",
      "Epoch 9/20\n",
      "1125/1125 [==============================] - 3s 3ms/step - loss: 0.4313 - accuracy: 0.8441\n",
      "Epoch 10/20\n",
      "1125/1125 [==============================] - 3s 3ms/step - loss: 0.4273 - accuracy: 0.8432\n",
      "Epoch 11/20\n",
      "1125/1125 [==============================] - 3s 3ms/step - loss: 0.4286 - accuracy: 0.8437\n",
      "Epoch 12/20\n",
      "1125/1125 [==============================] - 3s 3ms/step - loss: 0.4212 - accuracy: 0.8457\n",
      "Epoch 13/20\n",
      "1125/1125 [==============================] - 3s 3ms/step - loss: 0.4284 - accuracy: 0.8424\n",
      "Epoch 14/20\n",
      "1125/1125 [==============================] - 3s 3ms/step - loss: 0.4185 - accuracy: 0.8473\n",
      "Epoch 15/20\n",
      "1125/1125 [==============================] - 3s 3ms/step - loss: 0.4272 - accuracy: 0.8451\n",
      "Epoch 16/20\n",
      "1125/1125 [==============================] - 3s 3ms/step - loss: 0.4248 - accuracy: 0.8438\n",
      "Epoch 17/20\n",
      "1125/1125 [==============================] - 3s 3ms/step - loss: 0.4215 - accuracy: 0.8435\n",
      "Epoch 18/20\n",
      "1125/1125 [==============================] - 3s 3ms/step - loss: 0.4229 - accuracy: 0.8444\n",
      "Epoch 19/20\n",
      "1125/1125 [==============================] - 3s 3ms/step - loss: 0.4207 - accuracy: 0.8456\n",
      "Epoch 20/20\n",
      "1125/1125 [==============================] - 3s 3ms/step - loss: 0.4206 - accuracy: 0.8453\n",
      "563/563 [==============================] - 1s 2ms/step\n",
      "[CV] END ..kernel_size=(5, 5), optimizer__lr=0.01, strides=2; total time= 1.1min\n",
      "Epoch 1/20\n"
     ]
    },
    {
     "name": "stderr",
     "output_type": "stream",
     "text": [
      "/usr/local/lib/python3.7/dist-packages/keras/optimizers/optimizer_v2/adam.py:110: UserWarning: The `lr` argument is deprecated, use `learning_rate` instead.\n",
      "  super(Adam, self).__init__(name, **kwargs)\n"
     ]
    },
    {
     "name": "stdout",
     "output_type": "stream",
     "text": [
      "1125/1125 [==============================] - 4s 3ms/step - loss: 0.5719 - accuracy: 0.7900\n",
      "Epoch 2/20\n",
      "1125/1125 [==============================] - 3s 3ms/step - loss: 0.4741 - accuracy: 0.8267\n",
      "Epoch 3/20\n",
      "1125/1125 [==============================] - 3s 3ms/step - loss: 0.4561 - accuracy: 0.8347\n",
      "Epoch 4/20\n",
      "1125/1125 [==============================] - 3s 3ms/step - loss: 0.4484 - accuracy: 0.8354\n",
      "Epoch 5/20\n",
      "1125/1125 [==============================] - 3s 3ms/step - loss: 0.4397 - accuracy: 0.8389\n",
      "Epoch 6/20\n",
      "1125/1125 [==============================] - 3s 3ms/step - loss: 0.4345 - accuracy: 0.8413\n",
      "Epoch 7/20\n",
      "1125/1125 [==============================] - 3s 3ms/step - loss: 0.4300 - accuracy: 0.8406\n",
      "Epoch 8/20\n",
      "1125/1125 [==============================] - 3s 3ms/step - loss: 0.4274 - accuracy: 0.8411\n",
      "Epoch 9/20\n",
      "1125/1125 [==============================] - 3s 3ms/step - loss: 0.4255 - accuracy: 0.8456\n",
      "Epoch 10/20\n",
      "1125/1125 [==============================] - 3s 3ms/step - loss: 0.4333 - accuracy: 0.8409\n",
      "Epoch 11/20\n",
      "1125/1125 [==============================] - 3s 3ms/step - loss: 0.4260 - accuracy: 0.8421\n",
      "Epoch 12/20\n",
      "1125/1125 [==============================] - 3s 3ms/step - loss: 0.4258 - accuracy: 0.8442\n",
      "Epoch 13/20\n",
      "1125/1125 [==============================] - 3s 3ms/step - loss: 0.4272 - accuracy: 0.8416\n",
      "Epoch 14/20\n",
      "1125/1125 [==============================] - 3s 3ms/step - loss: 0.4350 - accuracy: 0.8375\n",
      "Epoch 15/20\n",
      "1125/1125 [==============================] - 3s 3ms/step - loss: 0.4281 - accuracy: 0.8418\n",
      "Epoch 16/20\n",
      "1125/1125 [==============================] - 3s 3ms/step - loss: 0.4293 - accuracy: 0.8405\n",
      "Epoch 17/20\n",
      "1125/1125 [==============================] - 3s 3ms/step - loss: 0.4271 - accuracy: 0.8433\n",
      "Epoch 18/20\n",
      "1125/1125 [==============================] - 3s 3ms/step - loss: 0.4269 - accuracy: 0.8411\n",
      "Epoch 19/20\n",
      "1125/1125 [==============================] - 3s 3ms/step - loss: 0.4264 - accuracy: 0.8441\n",
      "Epoch 20/20\n",
      "1125/1125 [==============================] - 3s 3ms/step - loss: 0.4297 - accuracy: 0.8418\n",
      "563/563 [==============================] - 1s 2ms/step\n",
      "[CV] END ..kernel_size=(5, 5), optimizer__lr=0.01, strides=2; total time= 1.4min\n",
      "Epoch 1/20\n"
     ]
    },
    {
     "name": "stderr",
     "output_type": "stream",
     "text": [
      "/usr/local/lib/python3.7/dist-packages/keras/optimizers/optimizer_v2/adam.py:110: UserWarning: The `lr` argument is deprecated, use `learning_rate` instead.\n",
      "  super(Adam, self).__init__(name, **kwargs)\n"
     ]
    },
    {
     "name": "stdout",
     "output_type": "stream",
     "text": [
      "1125/1125 [==============================] - 4s 3ms/step - loss: 0.6230 - accuracy: 0.7692\n",
      "Epoch 2/20\n",
      "1125/1125 [==============================] - 3s 3ms/step - loss: 0.4309 - accuracy: 0.8441\n",
      "Epoch 3/20\n",
      "1125/1125 [==============================] - 3s 3ms/step - loss: 0.3818 - accuracy: 0.8625\n",
      "Epoch 4/20\n",
      "1125/1125 [==============================] - 3s 3ms/step - loss: 0.3583 - accuracy: 0.8712\n",
      "Epoch 5/20\n",
      "1125/1125 [==============================] - 3s 3ms/step - loss: 0.3356 - accuracy: 0.8790\n",
      "Epoch 6/20\n",
      "1125/1125 [==============================] - 3s 3ms/step - loss: 0.3213 - accuracy: 0.8827\n",
      "Epoch 7/20\n",
      "1125/1125 [==============================] - 3s 3ms/step - loss: 0.3065 - accuracy: 0.8894\n",
      "Epoch 8/20\n",
      "1125/1125 [==============================] - 3s 3ms/step - loss: 0.2969 - accuracy: 0.8901\n",
      "Epoch 9/20\n",
      "1125/1125 [==============================] - 3s 3ms/step - loss: 0.2854 - accuracy: 0.8944\n",
      "Epoch 10/20\n",
      "1125/1125 [==============================] - 3s 3ms/step - loss: 0.2796 - accuracy: 0.8961\n",
      "Epoch 11/20\n",
      "1125/1125 [==============================] - 3s 3ms/step - loss: 0.2725 - accuracy: 0.9004\n",
      "Epoch 12/20\n",
      "1125/1125 [==============================] - 3s 3ms/step - loss: 0.2664 - accuracy: 0.9011\n",
      "Epoch 13/20\n",
      "1125/1125 [==============================] - 3s 3ms/step - loss: 0.2635 - accuracy: 0.9021\n",
      "Epoch 14/20\n",
      "1125/1125 [==============================] - 3s 3ms/step - loss: 0.2545 - accuracy: 0.9042\n",
      "Epoch 15/20\n",
      "1125/1125 [==============================] - 3s 3ms/step - loss: 0.2525 - accuracy: 0.9077\n",
      "Epoch 16/20\n",
      "1125/1125 [==============================] - 3s 3ms/step - loss: 0.2476 - accuracy: 0.9092\n",
      "Epoch 17/20\n",
      "1125/1125 [==============================] - 3s 3ms/step - loss: 0.2414 - accuracy: 0.9106\n",
      "Epoch 18/20\n",
      "1125/1125 [==============================] - 3s 3ms/step - loss: 0.2404 - accuracy: 0.9109\n",
      "Epoch 19/20\n",
      "1125/1125 [==============================] - 3s 3ms/step - loss: 0.2363 - accuracy: 0.9131\n",
      "Epoch 20/20\n",
      "1125/1125 [==============================] - 3s 3ms/step - loss: 0.2276 - accuracy: 0.9153\n",
      "563/563 [==============================] - 1s 2ms/step\n",
      "[CV] END .kernel_size=(5, 5), optimizer__lr=0.001, strides=1; total time= 1.4min\n",
      "Epoch 1/20\n"
     ]
    },
    {
     "name": "stderr",
     "output_type": "stream",
     "text": [
      "/usr/local/lib/python3.7/dist-packages/keras/optimizers/optimizer_v2/adam.py:110: UserWarning: The `lr` argument is deprecated, use `learning_rate` instead.\n",
      "  super(Adam, self).__init__(name, **kwargs)\n"
     ]
    },
    {
     "name": "stdout",
     "output_type": "stream",
     "text": [
      "1125/1125 [==============================] - 4s 3ms/step - loss: 0.6227 - accuracy: 0.7724\n",
      "Epoch 2/20\n",
      "1125/1125 [==============================] - 3s 3ms/step - loss: 0.4227 - accuracy: 0.8479\n",
      "Epoch 3/20\n",
      "1125/1125 [==============================] - 3s 3ms/step - loss: 0.3793 - accuracy: 0.8652\n",
      "Epoch 4/20\n",
      "1125/1125 [==============================] - 3s 3ms/step - loss: 0.3538 - accuracy: 0.8724\n",
      "Epoch 5/20\n",
      "1125/1125 [==============================] - 3s 3ms/step - loss: 0.3310 - accuracy: 0.8803\n",
      "Epoch 6/20\n",
      "1125/1125 [==============================] - 3s 3ms/step - loss: 0.3131 - accuracy: 0.8864\n",
      "Epoch 7/20\n",
      "1125/1125 [==============================] - 3s 3ms/step - loss: 0.3008 - accuracy: 0.8905\n",
      "Epoch 8/20\n",
      "1125/1125 [==============================] - 3s 3ms/step - loss: 0.2864 - accuracy: 0.8969\n",
      "Epoch 9/20\n",
      "1125/1125 [==============================] - 3s 3ms/step - loss: 0.2840 - accuracy: 0.8971\n",
      "Epoch 10/20\n",
      "1125/1125 [==============================] - 3s 3ms/step - loss: 0.2736 - accuracy: 0.8997\n",
      "Epoch 11/20\n",
      "1125/1125 [==============================] - 3s 3ms/step - loss: 0.2714 - accuracy: 0.9011\n",
      "Epoch 12/20\n",
      "1125/1125 [==============================] - 3s 3ms/step - loss: 0.2629 - accuracy: 0.9023\n",
      "Epoch 13/20\n",
      "1125/1125 [==============================] - 3s 3ms/step - loss: 0.2586 - accuracy: 0.9054\n",
      "Epoch 14/20\n",
      "1125/1125 [==============================] - 3s 3ms/step - loss: 0.2488 - accuracy: 0.9081\n",
      "Epoch 15/20\n",
      "1125/1125 [==============================] - 3s 3ms/step - loss: 0.2466 - accuracy: 0.9083\n",
      "Epoch 16/20\n",
      "1125/1125 [==============================] - 3s 3ms/step - loss: 0.2442 - accuracy: 0.9104\n",
      "Epoch 17/20\n",
      "1125/1125 [==============================] - 3s 3ms/step - loss: 0.2416 - accuracy: 0.9119\n",
      "Epoch 18/20\n",
      "1125/1125 [==============================] - 3s 3ms/step - loss: 0.2332 - accuracy: 0.9134\n",
      "Epoch 19/20\n",
      "1125/1125 [==============================] - 3s 3ms/step - loss: 0.2344 - accuracy: 0.9132\n",
      "Epoch 20/20\n",
      "1125/1125 [==============================] - 3s 3ms/step - loss: 0.2313 - accuracy: 0.9157\n",
      "563/563 [==============================] - 1s 2ms/step\n",
      "[CV] END .kernel_size=(5, 5), optimizer__lr=0.001, strides=1; total time= 1.2min\n",
      "Epoch 1/20\n"
     ]
    },
    {
     "name": "stderr",
     "output_type": "stream",
     "text": [
      "/usr/local/lib/python3.7/dist-packages/keras/optimizers/optimizer_v2/adam.py:110: UserWarning: The `lr` argument is deprecated, use `learning_rate` instead.\n",
      "  super(Adam, self).__init__(name, **kwargs)\n"
     ]
    },
    {
     "name": "stdout",
     "output_type": "stream",
     "text": [
      "1125/1125 [==============================] - 4s 3ms/step - loss: 0.6252 - accuracy: 0.7730\n",
      "Epoch 2/20\n",
      "1125/1125 [==============================] - 3s 3ms/step - loss: 0.4372 - accuracy: 0.8410\n",
      "Epoch 3/20\n",
      "1125/1125 [==============================] - 3s 3ms/step - loss: 0.3902 - accuracy: 0.8605\n",
      "Epoch 4/20\n",
      "1125/1125 [==============================] - 3s 3ms/step - loss: 0.3581 - accuracy: 0.8705\n",
      "Epoch 5/20\n",
      "1125/1125 [==============================] - 3s 3ms/step - loss: 0.3387 - accuracy: 0.8769\n",
      "Epoch 6/20\n",
      "1125/1125 [==============================] - 3s 3ms/step - loss: 0.3194 - accuracy: 0.8835\n",
      "Epoch 7/20\n",
      "1125/1125 [==============================] - 4s 3ms/step - loss: 0.3066 - accuracy: 0.8893\n",
      "Epoch 8/20\n",
      "1125/1125 [==============================] - 4s 3ms/step - loss: 0.2938 - accuracy: 0.8943\n",
      "Epoch 9/20\n",
      "1125/1125 [==============================] - 3s 3ms/step - loss: 0.2894 - accuracy: 0.8944\n",
      "Epoch 10/20\n",
      "1125/1125 [==============================] - 3s 3ms/step - loss: 0.2800 - accuracy: 0.8973\n",
      "Epoch 11/20\n",
      "1125/1125 [==============================] - 3s 3ms/step - loss: 0.2752 - accuracy: 0.8999\n",
      "Epoch 12/20\n",
      "1125/1125 [==============================] - 3s 3ms/step - loss: 0.2677 - accuracy: 0.9018\n",
      "Epoch 13/20\n",
      "1125/1125 [==============================] - 3s 3ms/step - loss: 0.2667 - accuracy: 0.9029\n",
      "Epoch 14/20\n",
      "1125/1125 [==============================] - 3s 3ms/step - loss: 0.2596 - accuracy: 0.9036\n",
      "Epoch 15/20\n",
      "1125/1125 [==============================] - 3s 3ms/step - loss: 0.2519 - accuracy: 0.9053\n",
      "Epoch 16/20\n",
      "1125/1125 [==============================] - 3s 3ms/step - loss: 0.2495 - accuracy: 0.9109\n",
      "Epoch 17/20\n",
      "1125/1125 [==============================] - 3s 3ms/step - loss: 0.2424 - accuracy: 0.9103\n",
      "Epoch 18/20\n",
      "1125/1125 [==============================] - 3s 3ms/step - loss: 0.2462 - accuracy: 0.9089\n",
      "Epoch 19/20\n",
      "1125/1125 [==============================] - 3s 3ms/step - loss: 0.2384 - accuracy: 0.9129\n",
      "Epoch 20/20\n",
      "1125/1125 [==============================] - 3s 3ms/step - loss: 0.2352 - accuracy: 0.9122\n",
      "563/563 [==============================] - 1s 2ms/step\n",
      "[CV] END .kernel_size=(5, 5), optimizer__lr=0.001, strides=1; total time= 1.2min\n",
      "Epoch 1/20\n"
     ]
    },
    {
     "name": "stderr",
     "output_type": "stream",
     "text": [
      "/usr/local/lib/python3.7/dist-packages/keras/optimizers/optimizer_v2/adam.py:110: UserWarning: The `lr` argument is deprecated, use `learning_rate` instead.\n",
      "  super(Adam, self).__init__(name, **kwargs)\n"
     ]
    },
    {
     "name": "stdout",
     "output_type": "stream",
     "text": [
      "1125/1125 [==============================] - 4s 3ms/step - loss: 0.6134 - accuracy: 0.7738\n",
      "Epoch 2/20\n",
      "1125/1125 [==============================] - 3s 3ms/step - loss: 0.4200 - accuracy: 0.8473\n",
      "Epoch 3/20\n",
      "1125/1125 [==============================] - 3s 3ms/step - loss: 0.3761 - accuracy: 0.8626\n",
      "Epoch 4/20\n",
      "1125/1125 [==============================] - 3s 3ms/step - loss: 0.3503 - accuracy: 0.8724\n",
      "Epoch 5/20\n",
      "1125/1125 [==============================] - 3s 3ms/step - loss: 0.3247 - accuracy: 0.8824\n",
      "Epoch 6/20\n",
      "1125/1125 [==============================] - 3s 3ms/step - loss: 0.3131 - accuracy: 0.8858\n",
      "Epoch 7/20\n",
      "1125/1125 [==============================] - 3s 3ms/step - loss: 0.2995 - accuracy: 0.8895\n",
      "Epoch 8/20\n",
      "1125/1125 [==============================] - 3s 3ms/step - loss: 0.2897 - accuracy: 0.8939\n",
      "Epoch 9/20\n",
      "1125/1125 [==============================] - 3s 3ms/step - loss: 0.2804 - accuracy: 0.8960\n",
      "Epoch 10/20\n",
      "1125/1125 [==============================] - 3s 3ms/step - loss: 0.2728 - accuracy: 0.8993\n",
      "Epoch 11/20\n",
      "1125/1125 [==============================] - 3s 3ms/step - loss: 0.2652 - accuracy: 0.9032\n",
      "Epoch 12/20\n",
      "1125/1125 [==============================] - 3s 3ms/step - loss: 0.2627 - accuracy: 0.9046\n",
      "Epoch 13/20\n",
      "1125/1125 [==============================] - 3s 3ms/step - loss: 0.2513 - accuracy: 0.9069\n",
      "Epoch 14/20\n",
      "1125/1125 [==============================] - 3s 3ms/step - loss: 0.2472 - accuracy: 0.9094\n",
      "Epoch 15/20\n",
      "1125/1125 [==============================] - 3s 3ms/step - loss: 0.2458 - accuracy: 0.9089\n",
      "Epoch 16/20\n",
      "1125/1125 [==============================] - 3s 3ms/step - loss: 0.2441 - accuracy: 0.9103\n",
      "Epoch 17/20\n",
      "1125/1125 [==============================] - 3s 3ms/step - loss: 0.2388 - accuracy: 0.9122\n",
      "Epoch 18/20\n",
      "1125/1125 [==============================] - 3s 3ms/step - loss: 0.2361 - accuracy: 0.9115\n",
      "Epoch 19/20\n",
      "1125/1125 [==============================] - 3s 3ms/step - loss: 0.2305 - accuracy: 0.9150\n",
      "Epoch 20/20\n",
      "1125/1125 [==============================] - 3s 3ms/step - loss: 0.2275 - accuracy: 0.9164\n",
      "563/563 [==============================] - 1s 2ms/step\n",
      "[CV] END .kernel_size=(5, 5), optimizer__lr=0.001, strides=2; total time= 1.4min\n",
      "Epoch 1/20\n"
     ]
    },
    {
     "name": "stderr",
     "output_type": "stream",
     "text": [
      "/usr/local/lib/python3.7/dist-packages/keras/optimizers/optimizer_v2/adam.py:110: UserWarning: The `lr` argument is deprecated, use `learning_rate` instead.\n",
      "  super(Adam, self).__init__(name, **kwargs)\n"
     ]
    },
    {
     "name": "stdout",
     "output_type": "stream",
     "text": [
      "1125/1125 [==============================] - 4s 3ms/step - loss: 0.6297 - accuracy: 0.7692\n",
      "Epoch 2/20\n",
      "1125/1125 [==============================] - 3s 3ms/step - loss: 0.4335 - accuracy: 0.8449\n",
      "Epoch 3/20\n",
      "1125/1125 [==============================] - 3s 3ms/step - loss: 0.3903 - accuracy: 0.8589\n",
      "Epoch 4/20\n",
      "1125/1125 [==============================] - 3s 3ms/step - loss: 0.3620 - accuracy: 0.8695\n",
      "Epoch 5/20\n",
      "1125/1125 [==============================] - 3s 3ms/step - loss: 0.3389 - accuracy: 0.8778\n",
      "Epoch 6/20\n",
      "1125/1125 [==============================] - 3s 3ms/step - loss: 0.3187 - accuracy: 0.8849\n",
      "Epoch 7/20\n",
      "1125/1125 [==============================] - 3s 3ms/step - loss: 0.3069 - accuracy: 0.8879\n",
      "Epoch 8/20\n",
      "1125/1125 [==============================] - 3s 3ms/step - loss: 0.2968 - accuracy: 0.8918\n",
      "Epoch 9/20\n",
      "1125/1125 [==============================] - 3s 3ms/step - loss: 0.2913 - accuracy: 0.8925\n",
      "Epoch 10/20\n",
      "1125/1125 [==============================] - 3s 3ms/step - loss: 0.2823 - accuracy: 0.8964\n",
      "Epoch 11/20\n",
      "1125/1125 [==============================] - 3s 3ms/step - loss: 0.2769 - accuracy: 0.8968\n",
      "Epoch 12/20\n",
      "1125/1125 [==============================] - 3s 3ms/step - loss: 0.2710 - accuracy: 0.9011\n",
      "Epoch 13/20\n",
      "1125/1125 [==============================] - 3s 3ms/step - loss: 0.2653 - accuracy: 0.9020\n",
      "Epoch 14/20\n",
      "1125/1125 [==============================] - 3s 3ms/step - loss: 0.2606 - accuracy: 0.9033\n",
      "Epoch 15/20\n",
      "1125/1125 [==============================] - 3s 3ms/step - loss: 0.2532 - accuracy: 0.9091\n",
      "Epoch 16/20\n",
      "1125/1125 [==============================] - 3s 3ms/step - loss: 0.2502 - accuracy: 0.9065\n",
      "Epoch 17/20\n",
      "1125/1125 [==============================] - 3s 3ms/step - loss: 0.2455 - accuracy: 0.9096\n",
      "Epoch 18/20\n",
      "1125/1125 [==============================] - 3s 3ms/step - loss: 0.2418 - accuracy: 0.9107\n",
      "Epoch 19/20\n",
      "1125/1125 [==============================] - 3s 3ms/step - loss: 0.2385 - accuracy: 0.9125\n",
      "Epoch 20/20\n",
      "1125/1125 [==============================] - 3s 3ms/step - loss: 0.2374 - accuracy: 0.9118\n",
      "563/563 [==============================] - 1s 2ms/step\n",
      "[CV] END .kernel_size=(5, 5), optimizer__lr=0.001, strides=2; total time= 1.2min\n",
      "Epoch 1/20\n"
     ]
    },
    {
     "name": "stderr",
     "output_type": "stream",
     "text": [
      "/usr/local/lib/python3.7/dist-packages/keras/optimizers/optimizer_v2/adam.py:110: UserWarning: The `lr` argument is deprecated, use `learning_rate` instead.\n",
      "  super(Adam, self).__init__(name, **kwargs)\n"
     ]
    },
    {
     "name": "stdout",
     "output_type": "stream",
     "text": [
      "1125/1125 [==============================] - 4s 3ms/step - loss: 0.6113 - accuracy: 0.7776\n",
      "Epoch 2/20\n",
      "1125/1125 [==============================] - 3s 3ms/step - loss: 0.4204 - accuracy: 0.8482\n",
      "Epoch 3/20\n",
      "1125/1125 [==============================] - 3s 3ms/step - loss: 0.3781 - accuracy: 0.8654\n",
      "Epoch 4/20\n",
      "1125/1125 [==============================] - 3s 3ms/step - loss: 0.3490 - accuracy: 0.8758\n",
      "Epoch 5/20\n",
      "1125/1125 [==============================] - 3s 3ms/step - loss: 0.3267 - accuracy: 0.8825\n",
      "Epoch 6/20\n",
      "1125/1125 [==============================] - 3s 3ms/step - loss: 0.3108 - accuracy: 0.8883\n",
      "Epoch 7/20\n",
      "1125/1125 [==============================] - 3s 3ms/step - loss: 0.2988 - accuracy: 0.8916\n",
      "Epoch 8/20\n",
      "1125/1125 [==============================] - 3s 3ms/step - loss: 0.2920 - accuracy: 0.8942\n",
      "Epoch 9/20\n",
      "1125/1125 [==============================] - 3s 3ms/step - loss: 0.2841 - accuracy: 0.8971\n",
      "Epoch 10/20\n",
      "1125/1125 [==============================] - 3s 3ms/step - loss: 0.2729 - accuracy: 0.9011\n",
      "Epoch 11/20\n",
      "1125/1125 [==============================] - 4s 4ms/step - loss: 0.2671 - accuracy: 0.9034\n",
      "Epoch 12/20\n",
      "1125/1125 [==============================] - 3s 3ms/step - loss: 0.2614 - accuracy: 0.9041\n",
      "Epoch 13/20\n",
      "1125/1125 [==============================] - 3s 3ms/step - loss: 0.2589 - accuracy: 0.9044\n",
      "Epoch 14/20\n",
      "1125/1125 [==============================] - 3s 3ms/step - loss: 0.2544 - accuracy: 0.9074\n",
      "Epoch 15/20\n",
      "1125/1125 [==============================] - 3s 3ms/step - loss: 0.2462 - accuracy: 0.9100\n",
      "Epoch 16/20\n",
      "1125/1125 [==============================] - 3s 3ms/step - loss: 0.2494 - accuracy: 0.9080\n",
      "Epoch 17/20\n",
      "1125/1125 [==============================] - 3s 3ms/step - loss: 0.2384 - accuracy: 0.9120\n",
      "Epoch 18/20\n",
      "1125/1125 [==============================] - 3s 3ms/step - loss: 0.2371 - accuracy: 0.9121\n",
      "Epoch 19/20\n",
      "1125/1125 [==============================] - 3s 3ms/step - loss: 0.2331 - accuracy: 0.9137\n",
      "Epoch 20/20\n",
      "1125/1125 [==============================] - 3s 3ms/step - loss: 0.2323 - accuracy: 0.9145\n",
      "563/563 [==============================] - 1s 2ms/step\n",
      "[CV] END .kernel_size=(5, 5), optimizer__lr=0.001, strides=2; total time= 1.4min\n",
      "Epoch 1/20\n"
     ]
    },
    {
     "name": "stderr",
     "output_type": "stream",
     "text": [
      "/usr/local/lib/python3.7/dist-packages/keras/optimizers/optimizer_v2/adam.py:110: UserWarning: The `lr` argument is deprecated, use `learning_rate` instead.\n",
      "  super(Adam, self).__init__(name, **kwargs)\n"
     ]
    },
    {
     "name": "stdout",
     "output_type": "stream",
     "text": [
      "1688/1688 [==============================] - 6s 3ms/step - loss: 0.5626 - accuracy: 0.7934\n",
      "Epoch 2/20\n",
      "1688/1688 [==============================] - 6s 3ms/step - loss: 0.3935 - accuracy: 0.8579\n",
      "Epoch 3/20\n",
      "1688/1688 [==============================] - 6s 3ms/step - loss: 0.3519 - accuracy: 0.8733\n",
      "Epoch 4/20\n",
      "1688/1688 [==============================] - 6s 3ms/step - loss: 0.3266 - accuracy: 0.8819\n",
      "Epoch 5/20\n",
      "1688/1688 [==============================] - 6s 3ms/step - loss: 0.3079 - accuracy: 0.8869\n",
      "Epoch 6/20\n",
      "1688/1688 [==============================] - 6s 3ms/step - loss: 0.2962 - accuracy: 0.8916\n",
      "Epoch 7/20\n",
      "1688/1688 [==============================] - 6s 3ms/step - loss: 0.2866 - accuracy: 0.8966\n",
      "Epoch 8/20\n",
      "1688/1688 [==============================] - 6s 3ms/step - loss: 0.2782 - accuracy: 0.8984\n",
      "Epoch 9/20\n",
      "1688/1688 [==============================] - 6s 3ms/step - loss: 0.2702 - accuracy: 0.9012\n",
      "Epoch 10/20\n",
      "1688/1688 [==============================] - 6s 3ms/step - loss: 0.2641 - accuracy: 0.9028\n",
      "Epoch 11/20\n",
      "1688/1688 [==============================] - 6s 3ms/step - loss: 0.2557 - accuracy: 0.9059\n",
      "Epoch 12/20\n",
      "1688/1688 [==============================] - 6s 3ms/step - loss: 0.2526 - accuracy: 0.9064\n",
      "Epoch 13/20\n",
      "1688/1688 [==============================] - 6s 3ms/step - loss: 0.2486 - accuracy: 0.9083\n",
      "Epoch 14/20\n",
      "1688/1688 [==============================] - 6s 3ms/step - loss: 0.2448 - accuracy: 0.9104\n",
      "Epoch 15/20\n",
      "1688/1688 [==============================] - 6s 3ms/step - loss: 0.2384 - accuracy: 0.9121\n",
      "Epoch 16/20\n",
      "1688/1688 [==============================] - 6s 3ms/step - loss: 0.2374 - accuracy: 0.9126\n",
      "Epoch 17/20\n",
      "1688/1688 [==============================] - 6s 3ms/step - loss: 0.2320 - accuracy: 0.9141\n",
      "Epoch 18/20\n",
      "1688/1688 [==============================] - 6s 3ms/step - loss: 0.2317 - accuracy: 0.9144\n",
      "Epoch 19/20\n",
      "1688/1688 [==============================] - 6s 3ms/step - loss: 0.2273 - accuracy: 0.9161\n",
      "Epoch 20/20\n",
      "1688/1688 [==============================] - 6s 3ms/step - loss: 0.2245 - accuracy: 0.9176\n"
     ]
    },
    {
     "data": {
      "text/plain": [
       "GridSearchCV(cv=3,\n",
       "             estimator=KerasClassifier(activation_function='relu', kernel_size=(3, 3), loss='sparse_categorical_crossentropy', metrics=['accuracy'], model=<function build_cnn at 0x7f4530278050>, optimizer='adam', optimizer__lr=0.01, strides=1),\n",
       "             param_grid={'kernel_size': [(3, 3), (5, 5)],\n",
       "                         'optimizer__lr': [0.1, 0.01, 0.001],\n",
       "                         'strides': [1, 2]},\n",
       "             verbose=2)"
      ]
     },
     "execution_count": 36,
     "metadata": {},
     "output_type": "execute_result"
    }
   ],
   "source": [
    "param_grid = {\n",
    "  \"optimizer__lr\": [0.1, 0.01, 0.001],\n",
    "  \"kernel_size\": [(3,3), (5,5)],\n",
    "  \"strides\": [1, 2]\n",
    "}\n",
    "grid_search_cv = GridSearchCV(keras_classifier, param_grid, cv=3, verbose=2)\n",
    "grid_search_cv.fit(X_train, y_train, epochs=20)"
   ]
  },
  {
   "cell_type": "code",
   "execution_count": null,
   "id": "NEiXDUTA5uih",
   "metadata": {
    "colab": {
     "base_uri": "https://localhost:8080/"
    },
    "id": "NEiXDUTA5uih",
    "outputId": "0c667e80-e0d4-4198-dd81-8820a9f2d27f"
   },
   "outputs": [
    {
     "name": "stdout",
     "output_type": "stream",
     "text": [
      "{'kernel_size': (5, 5), 'optimizer__lr': 0.001, 'strides': 1}\n"
     ]
    }
   ],
   "source": [
    "print(grid_search_cv.best_params_)"
   ]
  },
  {
   "cell_type": "markdown",
   "id": "0IHtI7v1gRpY",
   "metadata": {
    "id": "0IHtI7v1gRpY"
   },
   "source": [
    "The best hyperparameter combination for our CNN model is kernel size = (5,5), learning rate = 0.001 and strides = 1."
   ]
  },
  {
   "cell_type": "code",
   "execution_count": 39,
   "id": "Qq-idkfxNEhj",
   "metadata": {
    "colab": {
     "base_uri": "https://localhost:8080/",
     "height": 537
    },
    "id": "Qq-idkfxNEhj",
    "outputId": "efa44ac2-fd80-4178-d583-15445374819e"
   },
   "outputs": [
    {
     "ename": "KeyError",
     "evalue": "ignored",
     "output_type": "error",
     "traceback": [
      "\u001b[0;31m---------------------------------------------------------------------------\u001b[0m",
      "\u001b[0;31mKeyError\u001b[0m                                  Traceback (most recent call last)",
      "\u001b[0;32m<ipython-input-39-593e2a2452ce>\u001b[0m in \u001b[0;36m<module>\u001b[0;34m\u001b[0m\n\u001b[1;32m      5\u001b[0m \u001b[0mplt\u001b[0m\u001b[0;34m.\u001b[0m\u001b[0mfigure\u001b[0m\u001b[0;34m(\u001b[0m\u001b[0mfigsize\u001b[0m\u001b[0;34m=\u001b[0m\u001b[0;34m(\u001b[0m\u001b[0;36m12\u001b[0m\u001b[0;34m,\u001b[0m \u001b[0;36m3\u001b[0m\u001b[0;34m)\u001b[0m\u001b[0;34m)\u001b[0m               \u001b[0;31m#change figure size\u001b[0m\u001b[0;34m\u001b[0m\u001b[0;34m\u001b[0m\u001b[0m\n\u001b[1;32m      6\u001b[0m \u001b[0mplt\u001b[0m\u001b[0;34m.\u001b[0m\u001b[0mgca\u001b[0m\u001b[0;34m(\u001b[0m\u001b[0;34m)\u001b[0m\u001b[0;34m.\u001b[0m\u001b[0mset_ylim\u001b[0m\u001b[0;34m(\u001b[0m\u001b[0;36m50\u001b[0m\u001b[0;34m,\u001b[0m \u001b[0;36m90\u001b[0m\u001b[0;34m)\u001b[0m\u001b[0;34m\u001b[0m\u001b[0;34m\u001b[0m\u001b[0m\n\u001b[0;32m----> 7\u001b[0;31m \u001b[0mplt\u001b[0m\u001b[0;34m.\u001b[0m\u001b[0mbar\u001b[0m\u001b[0;34m(\u001b[0m\u001b[0mdict_to_string_list\u001b[0m\u001b[0;34m(\u001b[0m\u001b[0mpara\u001b[0m\u001b[0;34m)\u001b[0m\u001b[0;34m,\u001b[0m\u001b[0mgrid_search_cv\u001b[0m\u001b[0;34m.\u001b[0m\u001b[0mcv_results_\u001b[0m\u001b[0;34m[\u001b[0m\u001b[0;34m\"mean_fit_time\"\u001b[0m\u001b[0;34m]\u001b[0m\u001b[0;34m)\u001b[0m  \u001b[0;31m# here we use params conbinations as x-axis and time as y-axis\u001b[0m\u001b[0;34m\u001b[0m\u001b[0;34m\u001b[0m\u001b[0m\n\u001b[0m",
      "\u001b[0;32m<ipython-input-38-5c4e62defbd5>\u001b[0m in \u001b[0;36mdict_to_string_list\u001b[0;34m(dic)\u001b[0m\n\u001b[1;32m      5\u001b[0m   \u001b[0mstring_list\u001b[0m \u001b[0;34m=\u001b[0m \u001b[0;34m[\u001b[0m\u001b[0;34m]\u001b[0m\u001b[0;34m\u001b[0m\u001b[0;34m\u001b[0m\u001b[0m\n\u001b[1;32m      6\u001b[0m   \u001b[0;32mfor\u001b[0m \u001b[0mx\u001b[0m \u001b[0;32min\u001b[0m \u001b[0mdic\u001b[0m\u001b[0;34m:\u001b[0m\u001b[0;34m\u001b[0m\u001b[0;34m\u001b[0m\u001b[0m\n\u001b[0;32m----> 7\u001b[0;31m     \u001b[0ms\u001b[0m \u001b[0;34m=\u001b[0m \u001b[0mstr\u001b[0m\u001b[0;34m(\u001b[0m\u001b[0mx\u001b[0m\u001b[0;34m[\u001b[0m\u001b[0;34m\"activation_function\"\u001b[0m\u001b[0;34m]\u001b[0m\u001b[0;34m)\u001b[0m\u001b[0;34m+\u001b[0m\u001b[0;34m\"\\n\"\u001b[0m\u001b[0;34m+\u001b[0m\u001b[0mstr\u001b[0m\u001b[0;34m(\u001b[0m\u001b[0mx\u001b[0m\u001b[0;34m[\u001b[0m\u001b[0;34m\"optimizer__lr\"\u001b[0m\u001b[0;34m]\u001b[0m\u001b[0;34m)\u001b[0m\u001b[0;34m\u001b[0m\u001b[0;34m\u001b[0m\u001b[0m\n\u001b[0m\u001b[1;32m      8\u001b[0m     \u001b[0mstring_list\u001b[0m\u001b[0;34m.\u001b[0m\u001b[0mappend\u001b[0m\u001b[0;34m(\u001b[0m\u001b[0ms\u001b[0m\u001b[0;34m)\u001b[0m\u001b[0;34m\u001b[0m\u001b[0;34m\u001b[0m\u001b[0m\n\u001b[1;32m      9\u001b[0m \u001b[0;34m\u001b[0m\u001b[0m\n",
      "\u001b[0;31mKeyError\u001b[0m: 'activation_function'"
     ]
    },
    {
     "data": {
      "image/png": "[encoded data removed]",
      "text/plain": [
       "<Figure size 864x216 with 1 Axes>"
      ]
     },
     "metadata": {
      "needs_background": "light"
     },
     "output_type": "display_data"
    }
   ],
   "source": [
    "#best_model = grid_search_cv.best_estimator_.model\n",
    "\n",
    "para = grid_search_cv.cv_results_[\"params\"]       #params combinations\n",
    "\n",
    "plt.figure(figsize=(12, 3))               #change figure size\n",
    "plt.gca().set_ylim(50, 90)\n",
    "plt.bar(dict_to_string_list(para),grid_search_cv.cv_results_[\"mean_fit_time\"])  # here we use params conbinations as x-axis and time as y-axis"
   ]
  },
  {
   "cell_type": "code",
   "execution_count": null,
   "id": "1z4Rk-ng9rJS",
   "metadata": {
    "id": "1z4Rk-ng9rJS"
   },
   "outputs": [],
   "source": [
    "plt.figure(figsize=(12, 4)) \n",
    "plt.gca().set_ylim(0.8, 0.9)\n",
    "plt.bar(dict_to_string_list(para),grid_search_cv.cv_results_[\"mean_test_score\"])"
   ]
  },
  {
   "cell_type": "markdown",
   "id": "E_yuA9cU-W2l",
   "metadata": {
    "id": "E_yuA9cU-W2l"
   },
   "source": [
    "#### 2.3.6 Final CNN model"
   ]
  },
  {
   "cell_type": "code",
   "execution_count": 35,
   "id": "Eav6x7BX9sGr",
   "metadata": {
    "colab": {
     "base_uri": "https://localhost:8080/",
     "height": 1000
    },
    "id": "Eav6x7BX9sGr",
    "outputId": "200c6af7-d95b-4209-bc49-411c71be5f54"
   },
   "outputs": [
    {
     "name": "stdout",
     "output_type": "stream",
     "text": [
      "Epoch 1/20\n",
      "1688/1688 [==============================] - 7s 4ms/step - loss: 0.3136 - accuracy: 0.8852 - val_loss: 0.2816 - val_accuracy: 0.8990\n",
      "Epoch 2/20\n",
      "1688/1688 [==============================] - 6s 4ms/step - loss: 0.2951 - accuracy: 0.8909 - val_loss: 0.2676 - val_accuracy: 0.9002\n",
      "Epoch 3/20\n",
      "1688/1688 [==============================] - 6s 4ms/step - loss: 0.2829 - accuracy: 0.8962 - val_loss: 0.2633 - val_accuracy: 0.9055\n",
      "Epoch 4/20\n",
      "1688/1688 [==============================] - 6s 4ms/step - loss: 0.2767 - accuracy: 0.8982 - val_loss: 0.2870 - val_accuracy: 0.8923\n",
      "Epoch 5/20\n",
      "1688/1688 [==============================] - 6s 4ms/step - loss: 0.2651 - accuracy: 0.9024 - val_loss: 0.2632 - val_accuracy: 0.9030\n",
      "Epoch 6/20\n",
      "1688/1688 [==============================] - 6s 4ms/step - loss: 0.2654 - accuracy: 0.9014 - val_loss: 0.2574 - val_accuracy: 0.9032\n",
      "Epoch 7/20\n",
      "1688/1688 [==============================] - 6s 4ms/step - loss: 0.2574 - accuracy: 0.9049 - val_loss: 0.2509 - val_accuracy: 0.9052\n",
      "Epoch 8/20\n",
      "1688/1688 [==============================] - 6s 4ms/step - loss: 0.2545 - accuracy: 0.9069 - val_loss: 0.2489 - val_accuracy: 0.9122\n",
      "Epoch 9/20\n",
      "1688/1688 [==============================] - 6s 4ms/step - loss: 0.2493 - accuracy: 0.9081 - val_loss: 0.2433 - val_accuracy: 0.9118\n",
      "Epoch 10/20\n",
      "1688/1688 [==============================] - 6s 4ms/step - loss: 0.2438 - accuracy: 0.9099 - val_loss: 0.2474 - val_accuracy: 0.9138\n",
      "Epoch 11/20\n",
      "1688/1688 [==============================] - 6s 4ms/step - loss: 0.2428 - accuracy: 0.9110 - val_loss: 0.2391 - val_accuracy: 0.9140\n",
      "Epoch 12/20\n",
      "1688/1688 [==============================] - 6s 4ms/step - loss: 0.2369 - accuracy: 0.9121 - val_loss: 0.2433 - val_accuracy: 0.9097\n",
      "Epoch 13/20\n",
      "1688/1688 [==============================] - 7s 4ms/step - loss: 0.2357 - accuracy: 0.9137 - val_loss: 0.2629 - val_accuracy: 0.9045\n",
      "Epoch 14/20\n",
      "1688/1688 [==============================] - 6s 4ms/step - loss: 0.2307 - accuracy: 0.9136 - val_loss: 0.2378 - val_accuracy: 0.9158\n",
      "Epoch 15/20\n",
      "1688/1688 [==============================] - 6s 4ms/step - loss: 0.2287 - accuracy: 0.9156 - val_loss: 0.2447 - val_accuracy: 0.9083\n",
      "Epoch 16/20\n",
      "1688/1688 [==============================] - 6s 4ms/step - loss: 0.2283 - accuracy: 0.9151 - val_loss: 0.2496 - val_accuracy: 0.9088\n",
      "Epoch 17/20\n",
      "1688/1688 [==============================] - 7s 4ms/step - loss: 0.2239 - accuracy: 0.9156 - val_loss: 0.2458 - val_accuracy: 0.9105\n",
      "Epoch 18/20\n",
      "1688/1688 [==============================] - 8s 5ms/step - loss: 0.2243 - accuracy: 0.9173 - val_loss: 0.2383 - val_accuracy: 0.9147\n",
      "Epoch 19/20\n",
      "1688/1688 [==============================] - 6s 4ms/step - loss: 0.2188 - accuracy: 0.9193 - val_loss: 0.2491 - val_accuracy: 0.9110\n",
      "Epoch 20/20\n",
      "1688/1688 [==============================] - 6s 4ms/step - loss: 0.2205 - accuracy: 0.9176 - val_loss: 0.2403 - val_accuracy: 0.9140\n"
     ]
    },
    {
     "data": {
      "image/png": "[encoded data removed]",
      "text/plain": [
       "<Figure size 576x360 with 1 Axes>"
      ]
     },
     "metadata": {
      "needs_background": "light"
     },
     "output_type": "display_data"
    }
   ],
   "source": [
    "cnn_model_final = keras.models.Sequential([\n",
    "          # Specify the input shape\n",
    "          keras.Input(shape=(28, 28, 1)),\n",
    "              \n",
    "          # Conv and pool block 1\n",
    "          keras.layers.Conv2D(32, strides=1, kernel_size=(5, 5), activation=\"relu\"),\n",
    "          keras.layers.MaxPooling2D(pool_size=(2, 2)),\n",
    "              \n",
    "          # Conv and pool block 2\n",
    "          keras.layers.Conv2D(64, strides=1, kernel_size=(5, 5), activation=\"relu\"),\n",
    "          keras.layers.MaxPooling2D(pool_size=(2, 2)),\n",
    "              \n",
    "          # Flatten and classify using dense output layer\n",
    "          keras.layers.Flatten(),\n",
    "          keras.layers.Dropout(0.5),\n",
    "          keras.layers.Dense(10, activation=\"softmax\"),   \n",
    "])\n",
    "\n",
    "\n",
    "cnn_model_final.compile(loss='sparse_categorical_crossentropy',\n",
    "              optimizer=tf.keras.optimizers.SGD(learning_rate=0.001),\n",
    "              metrics=['accuracy'])\n",
    "\n",
    "history = model.fit(X_train, y_train, epochs=20,\n",
    "                    validation_data=(X_valid, y_valid))\n",
    "\n",
    "\n",
    "\n",
    "\n",
    "accuracies = pd.DataFrame(history.history)[['accuracy', 'val_accuracy']]\n",
    "\n",
    "# Plot the accuracies\n",
    "accuracies.plot(figsize=(8, 5))\n",
    "plt.grid(True)\n",
    "plt.gca().set_ylim(0.8, 1)\n",
    "plt.xlabel('Epoch')\n",
    "plt.show()"
   ]
  },
  {
   "cell_type": "code",
   "execution_count": null,
   "id": "_IZ_M8EmdYHt",
   "metadata": {
    "id": "_IZ_M8EmdYHt"
   },
   "outputs": [],
   "source": [
    "# Evaluate our final model on the test data.\n",
    "loss, accuracy = cnn_model_final.evaluate(X_test, y_test)\n",
    "print(f\"Fianl CNN model Accuracy on test data: {accuracy:.4f}\")"
   ]
  },
  {
   "cell_type": "markdown",
   "id": "zJ4Rw13xdf7n",
   "metadata": {
    "id": "zJ4Rw13xdf7n"
   },
   "source": [
    "The accuracy of our final CNN model is 0.91"
   ]
  }
 ],
 "metadata": {
  "accelerator": "GPU",
  "colab": {
   "collapsed_sections": [],
   "provenance": []
  },
  "kernelspec": {
   "display_name": "Python 3",
   "language": "python",
   "name": "python3"
  },
  "language_info": {
   "codemirror_mode": {
    "name": "ipython",
    "version": 3
   },
   "file_extension": ".py",
   "mimetype": "text/x-python",
   "name": "python",
   "nbconvert_exporter": "python",
   "pygments_lexer": "ipython3",
   "version": "3.8.8"
  }
 },
 "nbformat": 4,
 "nbformat_minor": 5
}
